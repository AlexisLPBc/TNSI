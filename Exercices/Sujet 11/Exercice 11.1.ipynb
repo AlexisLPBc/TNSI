{
 "cells": [
  {
   "cell_type": "markdown",
   "metadata": {},
   "source": [
    "Écrire une fonction `recherche` qui prend en paramètres un tableau `tab` de nombres\n",
    "entiers triés par ordre croissant et un nombre entier `n`, et qui effectue une recherche\n",
    "dichotomique du nombre entier `n` dans le tableau non vide `tab`.\n",
    "Cette fonction doit renvoyer un indice correspondant au nombre cherché s’il est dans le\n",
    "tableau, `-1` sinon.\n",
    "\n",
    "Exemples :\n",
    "```python\n",
    ">>> recherche([2, 3, 4, 5, 6], 5)\n",
    "3\n",
    ">>> recherche([2, 3, 4, 6, 7], 5)\n",
    "-1\n",
    "```\n"
   ]
  },
  {
   "cell_type": "markdown",
   "metadata": {},
   "source": [
    "## Exemple de recherche par dichotomie"
   ]
  },
  {
   "cell_type": "code",
   "execution_count": null,
   "metadata": {},
   "outputs": [],
   "source": [
    "# L'ordinateur génère un nombre secret compris entre 1 et 100 de façon aléatoire\n",
    "from random import randint\n",
    "nombre_secret = randint(1,100)\n",
    "\n",
    "print(\"Saurez-vous trouver le nombre secret en moins de 10 coups ?\")\n",
    "\n",
    "for i in range (10) :\n",
    "    \n",
    "    # On demande au joueur de saisir un nombre entier compris entre 1 et 100\n",
    "    proposition_du_joueur = int(input(\"\\nSaisir un nombre entier compris entre 1 et 100 = \"))\n",
    "    \n",
    "    if proposition_du_joueur < nombre_secret :\n",
    "        print(f\"C'est plus grand...\\nIl vous reste {9-i} tentatives.\")\n",
    "            \n",
    "    elif proposition_du_joueur > nombre_secret :\n",
    "        print(f\"C'est plus petit...\\nIl vous reste {9-i} tentatives.\")\n",
    "            \n",
    "    else :\n",
    "        print(f\"Bravo, vous avez trouvez le nombre secret en {i+1} coups !\")\n",
    "        break\n",
    "\n",
    "if i+1 == 10 :\n",
    "    print(f\"Dommage, vous n'avez pas trouvez le nombre secret en moins de {i+1} coups !\\nRéfléchissez à une stratégie pour trouvez en réduisant vos tentatives...\")\n",
    "      "
   ]
  },
  {
   "cell_type": "markdown",
   "metadata": {},
   "source": [
    "## L'exercice du sujet"
   ]
  },
  {
   "cell_type": "code",
   "execution_count": 2,
   "metadata": {},
   "outputs": [],
   "source": [
    "\n",
    "def recherche(tab,element):\n",
    "    \"\"\"\n",
    "    Description : Renvoie l'indice d'une recherche par dichotomie dans un tableau \n",
    "                  Si l'élément n'est pas dans le tableau : renvoie -1 \n",
    "\n",
    "    Exemple : >>> recherche([2,3,4,5,6],5)\n",
    "                  3\n",
    "\n",
    "    Préconditions : (int) : un nombre entier\n",
    "                    (list) : un tableau non vide\n",
    "       \n",
    "    \"\"\"\n",
    "    i_debut = 0\n",
    "    i_fin = len(tab)-1\n",
    "    while i_fin > i_debut:\n",
    "        i_mid = (i_fin+i_debut)//2\n",
    "        if tab[i_mid]==element:\n",
    "            return i_mid\n",
    "        elif tab[i_mid]>element:\n",
    "            i_fin=i_mid-1\n",
    "        else:\n",
    "            i_debut=i_mid+1\n",
    "    return -1"
   ]
  },
  {
   "cell_type": "code",
   "execution_count": 3,
   "metadata": {},
   "outputs": [
    {
     "data": {
      "text/plain": [
       "3"
      ]
     },
     "execution_count": 3,
     "metadata": {},
     "output_type": "execute_result"
    }
   ],
   "source": [
    "recherche([2,3,4,5,6],5)"
   ]
  }
 ],
 "metadata": {
  "interpreter": {
   "hash": "541a81e03b13eaa79a244450bcd1bd0799da73b0d2f9839d7eb1ccb3ae4431f1"
  },
  "kernelspec": {
   "display_name": "Python 3.10.0 64-bit",
   "language": "python",
   "name": "python3"
  },
  "language_info": {
   "codemirror_mode": {
    "name": "ipython",
    "version": 3
   },
   "file_extension": ".py",
   "mimetype": "text/x-python",
   "name": "python",
   "nbconvert_exporter": "python",
   "pygments_lexer": "ipython3",
   "version": "3.10.0"
  },
  "orig_nbformat": 4
 },
 "nbformat": 4,
 "nbformat_minor": 2
}
