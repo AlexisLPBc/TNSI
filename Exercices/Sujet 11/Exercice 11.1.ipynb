{
 "cells": [
  {
   "cell_type": "markdown",
   "metadata": {},
   "source": [
    "Écrire une fonction `recherche` qui prend en paramètres un tableau `tab` de nombres\n",
    "entiers triés par ordre croissant et un nombre entier `n`, et qui effectue une recherche\n",
    "dichotomique du nombre entier `n` dans le tableau non vide `tab`.\n",
    "Cette fonction doit renvoyer un indice correspondant au nombre cherché s’il est dans le\n",
    "tableau, `-1` sinon.\n",
    "\n",
    "Exemples :\n",
    "```python\n",
    ">>> recherche([2, 3, 4, 5, 6], 5)\n",
    "3\n",
    ">>> recherche([2, 3, 4, 6, 7], 5)\n",
    "-1\n",
    "```\n"
   ]
  },
  {
   "cell_type": "code",
   "execution_count": null,
   "metadata": {},
   "outputs": [],
   "source": [
    "def recherche(tab,element):\n",
    "    i_debut = 0\n",
    "    i_fin = len(tab)-1\n",
    "    while i_fin > i_debut:\n",
    "        i_mid = (i_fin+i_debut)//2\n",
    "        if tab[i_mid]==element:\n",
    "            return i_mid\n",
    "        elif tab[i_mid]>element:\n",
    "            i_fin=i_mid-1\n",
    "        else:\n",
    "            i_debut=i_mid+1\n",
    "    return -1"
   ]
  }
 ],
 "metadata": {
  "language_info": {
   "name": "python"
  },
  "orig_nbformat": 4
 },
 "nbformat": 4,
 "nbformat_minor": 2
}
