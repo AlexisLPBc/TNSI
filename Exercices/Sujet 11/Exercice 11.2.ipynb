{
 "cells": [
  {
   "cell_type": "markdown",
   "metadata": {},
   "source": [
    "Le codage de César transforme un message en changeant chaque lettre en la décalant\n",
    "dans l’alphabet.\n",
    "Par exemple, avec un décalage de 3, le A se transforme en D, le B en E, ..., le X en A,\n",
    "le Y en B et le Z en C. Les autres caractères (‘!’,’ ?’…) ne sont pas codés.\n",
    "\n",
    "La fonction `position_alphabet` ci-dessous prend en paramètre un caractère `lettre`\n",
    "et renvoie la position de `lettre` dans la chaîne de caractères `ALPHABET` s’il s’y trouve\n",
    "et `-1` sinon.\n",
    "La fonction `cesar` prend en paramètre une chaîne de caractères `message` et un nombre\n",
    "entier `decalage` et renvoie le nouveau message codé avec le codage de César utilisant\n",
    "le décalage `decalage`.\n",
    "\n",
    "```python linenums='1'\n",
    "ALPHABET = 'ABCDEFGHIJKLMNOPQRSTUVWXYZ'\n",
    "\n",
    "def position_alphabet(lettre):\n",
    "    return ALPHABET.find(lettre)\n",
    "\n",
    "def cesar(message, decalage):\n",
    "    resultat = ''\n",
    "    for ... in message:\n",
    "        if lettre in ALPHABET:\n",
    "            indice = ( ... ) % 26\n",
    "            resultat = resultat + ALPHABET[indice]\n",
    "        else:\n",
    "            resultat = ...\n",
    "    return resultat\n"
   ]
  },
  {
   "cell_type": "code",
   "execution_count": 1,
   "metadata": {},
   "outputs": [],
   "source": [
    "def position_alphabet(lettre):\n",
    "\n",
    "    \"\"\"\n",
    "    Description : prend en paramètre une lettre et renvoie sa position dans la chaine de caractère ALPHABET (comprends l'ensemble de l'alphabet courant).\n",
    "                  Sinon renvoie -1\n",
    "\n",
    "    Exemple : position_alaphabet(k)\n",
    "              11\n",
    "\n",
    "    Préconditions : (str) : une lettre\n",
    "                    (str) : une chaine de caractère\n",
    "\n",
    "    Postconditions : (int) : un chiffre\n",
    "    \n",
    "    \"\"\"\n",
    "    return ALPHABET.find(lettre)\n",
    "\n",
    "def cesar(message, decalage):\n",
    "\n",
    "    \"\"\"\n",
    "    Description : prend en parametre un message avec un chiffre qui correspond au décalage du futur code cesar et renvoie le résultat sous forme d'une chaine de caractère. \n",
    "\n",
    "    Exemple : cesar(aurelien, 2)\n",
    "              eguct\n",
    "\n",
    "    Préconditions : (str) : une chaine de caractère\n",
    "                    (int): un chiffre entier  \n",
    "\n",
    "    Postconditions : (str) :  une chaine de caractère\n",
    "    \n",
    "    \"\"\"\n",
    "    resultat = ''\n",
    "    for lettre in message:\n",
    "        if lettre in ALPHABET:\n",
    "            indice = ( position_alphabet(lettre) + decalage ) % 26\n",
    "            resultat = resultat + ALPHABET[indice]\n",
    "        else:\n",
    "            resultat = resultat + lettre\n",
    "    return resultat"
   ]
  }
 ],
 "metadata": {
  "interpreter": {
   "hash": "541a81e03b13eaa79a244450bcd1bd0799da73b0d2f9839d7eb1ccb3ae4431f1"
  },
  "kernelspec": {
   "display_name": "Python 3.10.0 64-bit",
   "language": "python",
   "name": "python3"
  },
  "language_info": {
   "codemirror_mode": {
    "name": "ipython",
    "version": 3
   },
   "file_extension": ".py",
   "mimetype": "text/x-python",
   "name": "python",
   "nbconvert_exporter": "python",
   "pygments_lexer": "ipython3",
   "version": "3.10.0"
  },
  "orig_nbformat": 4
 },
 "nbformat": 4,
 "nbformat_minor": 2
}
