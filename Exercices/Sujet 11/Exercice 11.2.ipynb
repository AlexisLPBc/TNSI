{
 "cells": [
  {
   "cell_type": "markdown",
   "metadata": {},
   "source": [
    "Le codage de César transforme un message en changeant chaque lettre en la décalant\n",
    "dans l’alphabet.\n",
    "Par exemple, avec un décalage de 3, le A se transforme en D, le B en E, ..., le X en A,\n",
    "le Y en B et le Z en C. Les autres caractères (‘!’,’ ?’…) ne sont pas codés.\n",
    "\n",
    "La fonction `position_alphabet` ci-dessous prend en paramètre un caractère `lettre`\n",
    "et renvoie la position de `lettre` dans la chaîne de caractères `ALPHABET` s’il s’y trouve\n",
    "et `-1` sinon.\n",
    "La fonction `cesar` prend en paramètre une chaîne de caractères `message` et un nombre\n",
    "entier `decalage` et renvoie le nouveau message codé avec le codage de César utilisant\n",
    "le décalage `decalage`.\n",
    "\n",
    "```python linenums='1'\n",
    "ALPHABET = 'ABCDEFGHIJKLMNOPQRSTUVWXYZ'\n",
    "\n",
    "def position_alphabet(lettre):\n",
    "    return ALPHABET.find(lettre)\n",
    "\n",
    "def cesar(message, decalage):\n",
    "    resultat = ''\n",
    "    for ... in message:\n",
    "        if lettre in ALPHABET:\n",
    "            indice = ( ... ) % 26\n",
    "            resultat = resultat + ALPHABET[indice]\n",
    "        else:\n",
    "            resultat = ...\n",
    "    return resultat\n"
   ]
  },
  {
   "cell_type": "code",
   "execution_count": null,
   "metadata": {},
   "outputs": [],
   "source": [
    "def position_alphabet(lettre):\n",
    "    return ALPHABET.find(lettre)\n",
    "\n",
    "def cesar(message, decalage):\n",
    "    resultat = ''\n",
    "    for ... in message:\n",
    "        if lettre in ALPHABET:\n",
    "            indice = ( ... ) % 26\n",
    "            resultat = resultat + ALPHABET[indice]\n",
    "        else:\n",
    "            resultat = ...\n",
    "    return resultat"
   ]
  }
 ],
 "metadata": {
  "language_info": {
   "name": "python"
  },
  "orig_nbformat": 4
 },
 "nbformat": 4,
 "nbformat_minor": 2
}
