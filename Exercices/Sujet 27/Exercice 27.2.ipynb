{
 "cells": [
  {
   "cell_type": "markdown",
   "metadata": {},
   "source": [
    "On considère l'algorithme de tri de tableau suivant : à chaque étape, on parcourt depuis\n",
    "le début du tableau tous les éléments non rangés et on place en dernière position le plus\n",
    "grand élément.\n",
    "\n",
    "Exemple avec le tableau : ```t = [41, 55, 21, 18, 12, 6, 25]``` \n",
    "\n",
    "- Étape 1 : on parcourt tous les éléments du tableau, on permute le plus grand élément avec le dernier.\n",
    "\n",
    "Le tableau devient `t = [41, 25, 21, 18, 12, 6, 55]`\n",
    "\n",
    "- Étape 2 : on parcourt tous les éléments **sauf le dernier**, on permute le plus grand élément trouvé avec l'avant dernier.\n",
    "\n",
    "Le tableau devient : ```t = [6, 25, 21, 18, 12, 41, 55]``` \n",
    "\n",
    "Et ainsi de suite. La code de la fonction `tri_iteratif` qui implémente cet algorithme est donné ci-\n",
    "dessous.\n",
    "\n",
    "```python linenums='1'\n",
    "def tri_iteratif(tab):\n",
    "    for k in range(..., 0 ,-1):\n",
    "        imax = ...\n",
    "        for i in range(0, ...):\n",
    "            if tab[i] > ... :\n",
    "                imax = i\n",
    "        if tab[max] > ... :\n",
    "            ..., tab[imax] = tab[imax], ...\n",
    "    return tab"
   ]
  },
  {
   "cell_type": "markdown",
   "metadata": {},
   "source": [
    "Compléter le code qui doit donner :\n",
    "\n",
    "\n",
    "    tri_iteratif([41, 55, 21, 18, 12, 6, 25])\n",
    "[6, 12, 18, 21, 25, 41, 55]\n",
    "\n",
    "On rappelle que l'instruction a, b = b, a échange les contenus de a et b. ```"
   ]
  },
  {
   "cell_type": "code",
   "execution_count": 5,
   "metadata": {},
   "outputs": [],
   "source": [
    "def tri_iteratif(tab):\n",
    "    for k in range(len(tab)-1, 0 ,-1):\n",
    "        imax = k\n",
    "        for i in range(0,k):\n",
    "            if tab[i] > tab[imax] :\n",
    "                imax = i\n",
    "        if tab[imax] > tab[k] :\n",
    "            tab[k], tab[imax] = tab[imax], tab[k]\n",
    "    return tab"
   ]
  },
  {
   "cell_type": "code",
   "execution_count": 6,
   "metadata": {},
   "outputs": [
    {
     "data": {
      "text/plain": [
       "[6, 12, 18, 21, 25, 41, 55]"
      ]
     },
     "execution_count": 6,
     "metadata": {},
     "output_type": "execute_result"
    }
   ],
   "source": [
    "tri_iteratif([41, 55, 21, 18, 12, 6, 25])"
   ]
  }
 ],
 "metadata": {
  "interpreter": {
   "hash": "a3d0e8e0c817ae3c7f78f66b04bafeb63523a0a50e6405ec1b074461715681e4"
  },
  "kernelspec": {
   "display_name": "Python 3.10.0 64-bit",
   "language": "python",
   "name": "python3"
  },
  "language_info": {
   "codemirror_mode": {
    "name": "ipython",
    "version": 3
   },
   "file_extension": ".py",
   "mimetype": "text/x-python",
   "name": "python",
   "nbconvert_exporter": "python",
   "pygments_lexer": "ipython3",
   "version": "3.10.0"
  },
  "orig_nbformat": 4
 },
 "nbformat": 4,
 "nbformat_minor": 2
}
