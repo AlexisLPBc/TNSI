{
 "cells": [
  {
   "cell_type": "markdown",
   "metadata": {},
   "source": [
    "Dans cet exercice, un arbre binaire de caractères est stocké sous la forme d’un\n",
    "dictionnaire où les clefs sont les caractères des nœuds de l’arbre et les valeurs, pour\n",
    "chaque clef, la liste des caractères des fils gauche et droit du nœud.\n",
    "\n",
    "Par exemple, l’arbre\n",
    "\n",
    "![image](data/img28_1.png){: .center width=40%}\n",
    "\n",
    "est stocké dans\n",
    "\n",
    "```python\n",
    "a = {'F':['B','G'], 'B':['A','D'], 'A':['',''], 'D':['C','E'], \\\n",
    "'C':['',''], 'E':['',''], 'G':['','I'], 'I':['','H'], \\\n",
    "'H':['','']}\n",
    "```\n",
    "\n",
    "Écrire une fonction récursive `taille` prenant en paramètres un arbre binaire `arbre`\n",
    "sous la forme d’un dictionnaire et un caractère `lettre` qui est la valeur du sommet de\n",
    "l’arbre, et qui renvoie la taille de l’arbre à savoir le nombre total de nœud.\n",
    "On pourra distinguer les 4 cas où les deux « fils » du nœud sont `''`, le fils gauche\n",
    "seulement est `''`, le fils droit seulement est `''`, aucun des deux fils n’est `''`.\n",
    "\n",
    "Exemple :\n",
    "```python\n",
    ">>> taille(a, ’F’)\n",
    "9\n",
    "```"
   ]
  },
  {
   "cell_type": "code",
   "execution_count": 7,
   "metadata": {},
   "outputs": [],
   "source": [
    "a = {'F':['B','G'], 'B':['A','D'], 'A':['',''], 'D':['C','E'], \\\n",
    "'C':['',''], 'E':['',''], 'G':['','I'], 'I':['','H'], \\\n",
    "'H':['','']}\n",
    "def taille (arbre,lettre):\n",
    "    if arbre[lettre][0] == \"\" and arbre[lettre][1] == \"\":\n",
    "        return 1\n",
    "    elif arbre[lettre][1] == \"\" : \n",
    "        return 1 + taille(arbre, arbre[lettre][0])\n",
    "    elif arbre[lettre][0] == \"\" :\n",
    "        return 1 + taille(arbre, arbre[lettre][1])\n",
    "    else :\n",
    "        return 1+taille(arbre, arbre[lettre][0])+taille(arbre, arbre[lettre][1])"
   ]
  },
  {
   "cell_type": "code",
   "execution_count": 8,
   "metadata": {},
   "outputs": [
    {
     "data": {
      "text/plain": [
       "9"
      ]
     },
     "execution_count": 8,
     "metadata": {},
     "output_type": "execute_result"
    }
   ],
   "source": [
    "taille(a,\"F\")"
   ]
  },
  {
   "cell_type": "code",
   "execution_count": 13,
   "metadata": {},
   "outputs": [],
   "source": [
    "def taille(arbre, lettre) :\n",
    "    if lettre == \"\" :\n",
    "        return 0\n",
    "    else :\n",
    "        return 1 + taille(arbre, arbre[lettre][0]) + taille(arbre, arbre[lettre][1])"
   ]
  },
  {
   "cell_type": "code",
   "execution_count": 14,
   "metadata": {},
   "outputs": [
    {
     "data": {
      "text/plain": [
       "9"
      ]
     },
     "execution_count": 14,
     "metadata": {},
     "output_type": "execute_result"
    }
   ],
   "source": [
    "taille(a,\"F\")"
   ]
  }
 ],
 "metadata": {
  "interpreter": {
   "hash": "a3d0e8e0c817ae3c7f78f66b04bafeb63523a0a50e6405ec1b074461715681e4"
  },
  "kernelspec": {
   "display_name": "Python 3.10.0 64-bit",
   "language": "python",
   "name": "python3"
  },
  "language_info": {
   "codemirror_mode": {
    "name": "ipython",
    "version": 3
   },
   "file_extension": ".py",
   "mimetype": "text/x-python",
   "name": "python",
   "nbconvert_exporter": "python",
   "pygments_lexer": "ipython3",
   "version": "3.10.0"
  },
  "orig_nbformat": 4
 },
 "nbformat": 4,
 "nbformat_minor": 2
}
