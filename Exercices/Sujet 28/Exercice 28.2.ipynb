{
 "cells": [
  {
   "cell_type": "markdown",
   "metadata": {},
   "source": [
    "On considère la fonction `dec_to_bin` ci-dessous qui prend en paramètre un entier positif `a` en écriture décimale et qui renvoie son écriture binaire sous la forme d'une chaine de caractères.\n",
    "\n",
    "```python linenums='1'\n",
    "def dec_to_bin(a):\n",
    "    bin_a = ...\n",
    "    a = a//2\n",
    "    while a ... :\n",
    "        bin_a = ... + bin_a\n",
    "        a = ...\n",
    "    return bin_a"
   ]
  },
  {
   "cell_type": "code",
   "execution_count": null,
   "metadata": {},
   "outputs": [],
   "source": [
    "def dec_to_bin(a):\n",
    "    bin_a = str(a%2)\n",
    "    a = a // 2\n",
    "    while a != 0 :\n",
    "        bin_a = str(a%2) + bin_a\n",
    "        a = a // 2\n",
    "    return bin_a"
   ]
  }
 ],
 "metadata": {
  "language_info": {
   "name": "python"
  },
  "orig_nbformat": 4
 },
 "nbformat": 4,
 "nbformat_minor": 2
}
