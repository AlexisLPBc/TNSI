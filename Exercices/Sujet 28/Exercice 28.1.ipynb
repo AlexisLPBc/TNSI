{
 "cells": [
  {
   "cell_type": "markdown",
   "metadata": {},
   "source": [
    "Écrire une fonction `moyenne` qui prend en paramètre un tableau non vide de nombres\n",
    "flottants et qui renvoie la moyenne des valeurs du tableau. Les tableaux seront\n",
    "représentés sous forme de liste Python.\n",
    "\n",
    "Exemples :\n",
    "```python\n",
    ">>> moyenne([1.0])\n",
    "1.0\n",
    ">>> moyenne([1.0, 2.0, 4.0])\n",
    "2.3333333333333335\n",
    "```"
   ]
  },
  {
   "cell_type": "code",
   "execution_count": null,
   "metadata": {},
   "outputs": [],
   "source": [
    "def moyenne(liste):\n",
    "    somme = 0\n",
    "    for i in liste:\n",
    "        somme += i\n",
    "    return somme / len(liste)"
   ]
  }
 ],
 "metadata": {
  "language_info": {
   "name": "python"
  },
  "orig_nbformat": 4
 },
 "nbformat": 4,
 "nbformat_minor": 2
}
