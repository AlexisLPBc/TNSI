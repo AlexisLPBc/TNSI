{
 "cells": [
  {
   "cell_type": "markdown",
   "metadata": {},
   "source": [
    "Une expression arithmétique ne comportant que les quatre opérations +, −,×,÷ peut être\n",
    "représentée sous forme d’arbre binaire. Les nœuds internes sont des opérateurs et les feuilles\n",
    "sont des nombres. Dans un tel arbre, la disposition des nœuds joue le rôle des parenthèses que\n",
    "nous connaissons bien.  \n",
    "\n",
    "![image](data/img3_2.png){: .center width=30%}\n",
    "\n",
    "En parcourant en profondeur infixe l’arbre binaire ci-dessus, on\n",
    "retrouve l’expression notée habituellement :  \n",
    "\n",
    "\n",
    "$$3 \\times (8 + 7) − (2 + 1)$$\n",
    "\n",
    "\n",
    "La classe `Noeud` ci-après permet d’implémenter une structure\n",
    "d’arbre binaire.\n",
    "Compléter la fonction récursive `expression_infixe` qui prend\n",
    "en paramètre un objet de la classe `Noeud` et qui renvoie\n",
    "l’expression arithmétique représentée par l’arbre binaire passé\n",
    "en paramètre, sous forme d’une chaîne de caractères contenant\n",
    "des parenthèses.  \n",
    "\n",
    "Résultat attendu avec l’arbre ci-dessus :\n",
    "\n",
    "```python\n",
    ">>> e = Noeud(Noeud(Noeud(None, 3, None), '*', Noeud(Noeud(None, 8, None),\n",
    "'+', Noeud(None, 7, None))), '-', Noeud(Noeud(None, 2, None), '+',\n",
    "Noeud(None, 1, None)))\n",
    "\n",
    ">>> expression_infixe(e)\n",
    "'((3*(8+7))-(2+1))'\n"
   ]
  },
  {
   "cell_type": "code",
   "execution_count": 2,
   "metadata": {},
   "outputs": [],
   "source": [
    "def __init__(self, g, v, d):\n",
    "    self.gauche = g\n",
    "    self.valeur = v\n",
    "    self.droit = d\n",
    "\n",
    "def __str__(self):\n",
    "    return str(self.valeur)\n",
    "\n",
    "def est_une_feuille(self):\n",
    "    return self.gauche is None and self.droit is None\n",
    "\n",
    "def expression_infixe(e):\n",
    "    s = \"\"\n",
    "    if e.gauche is not None:\n",
    "        s = s + expression_infixe(e.gauche)\n",
    "    s = s +  str(e.valeur)\n",
    "    if e.droit is not None:\n",
    "        s = s + expression_infixe(e.droit)\n",
    "    if e.est_une_feuille():\n",
    "        return s\n",
    "    return '('+ s +')'"
   ]
  }
 ],
 "metadata": {
  "interpreter": {
   "hash": "541a81e03b13eaa79a244450bcd1bd0799da73b0d2f9839d7eb1ccb3ae4431f1"
  },
  "kernelspec": {
   "display_name": "Python 3.10.0 64-bit",
   "language": "python",
   "name": "python3"
  },
  "language_info": {
   "codemirror_mode": {
    "name": "ipython",
    "version": 3
   },
   "file_extension": ".py",
   "mimetype": "text/x-python",
   "name": "python",
   "nbconvert_exporter": "python",
   "pygments_lexer": "ipython3",
   "version": "3.10.0"
  },
  "orig_nbformat": 4
 },
 "nbformat": 4,
 "nbformat_minor": 2
}
