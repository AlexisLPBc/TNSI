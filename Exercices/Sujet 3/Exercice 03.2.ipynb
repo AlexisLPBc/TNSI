{
 "cells": [
  {
   "cell_type": "markdown",
   "metadata": {},
   "source": [
    "Une expression arithmétique ne comportant que les quatre opérations +, −,×,÷ peut être\n",
    "représentée sous forme d’arbre binaire. Les nœuds internes sont des opérateurs et les feuilles\n",
    "sont des nombres. Dans un tel arbre, la disposition des nœuds joue le rôle des parenthèses que\n",
    "nous connaissons bien.  \n",
    "\n",
    "![image](data/img3_2.png){: .center width=30%}\n",
    "\n",
    "En parcourant en profondeur infixe l’arbre binaire ci-dessus, on\n",
    "retrouve l’expression notée habituellement :  \n",
    "\n",
    "\n",
    "$$3 \\times (8 + 7) − (2 + 1)$$\n",
    "\n",
    "\n",
    "La classe `Noeud` ci-après permet d’implémenter une structure\n",
    "d’arbre binaire.\n",
    "Compléter la fonction récursive `expression_infixe` qui prend\n",
    "en paramètre un objet de la classe `Noeud` et qui renvoie\n",
    "l’expression arithmétique représentée par l’arbre binaire passé\n",
    "en paramètre, sous forme d’une chaîne de caractères contenant\n",
    "des parenthèses.  \n",
    "\n",
    "Résultat attendu avec l’arbre ci-dessus :\n",
    "\n",
    "```python\n",
    ">>> e = Noeud(Noeud(Noeud(None, 3, None), '*', Noeud(Noeud(None, 8, None),\n",
    "'+', Noeud(None, 7, None))), '-', Noeud(Noeud(None, 2, None), '+',\n",
    "Noeud(None, 1, None)))\n",
    "\n",
    ">>> expression_infixe(e)\n",
    "'((3*(8+7))-(2+1))'\n"
   ]
  },
  {
   "cell_type": "code",
   "execution_count": null,
   "metadata": {},
   "outputs": [],
   "source": [
    "def __init__(self, g, v, d):\n",
    "    self.gauche = g\n",
    "    self.valeur = v\n",
    "    self.droit = d\n",
    "\n",
    "def __str__(self):\n",
    "    return str(self.valeur)\n",
    "\n",
    "def est_une_feuille(self):\n",
    "    return self.gauche is None and self.droit is None\n",
    "\n",
    "def expression_infixe(e):\n",
    "    s = ...\n",
    "    if e.gauche is not None:\n",
    "    s = s + expression_infixe(...)\n",
    "    s = s + ...\n",
    "    if ... is not None:\n",
    "        s = s + ...\n",
    "    if ...:\n",
    "        return s\n",
    "    return '('+ s +')'"
   ]
  }
 ],
 "metadata": {
  "language_info": {
   "name": "python"
  },
  "orig_nbformat": 4
 },
 "nbformat": 4,
 "nbformat_minor": 2
}
