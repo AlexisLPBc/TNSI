{
 "cells": [
  {
   "cell_type": "markdown",
   "metadata": {},
   "source": [
    "Le codage par différence (delta encoding en anglais) permet de compresser un tableau de\n",
    "données en indiquant pour chaque donnée, sa différence avec la précédente (plutôt que la\n",
    "donnée elle-même). On se retrouve alors avec un tableau de données assez petites nécessitant\n",
    "moins de place en mémoire. Cette méthode se révèle efficace lorsque les valeurs consécutives\n",
    "sont proches.\n",
    "\n",
    "Programmer la fonction `delta` qui prend en paramètre un tableau non vide de nombres entiers\n",
    "et qui renvoie un tableau contenant les valeurs entières compressées à l’aide cette technique.\n",
    "\n",
    "Exemples :\n",
    "\n",
    "```python\n",
    ">>> delta([1000, 800, 802, 1000, 1003])\n",
    "[1000, -200, 2, 198, 3]\n",
    ">>> delta([42])\n",
    "[42] # (1)\n",
    "```\n",
    "\n",
    "1. Dans l'énoncé original, il n'y a pas de crochets autour de 42, ce qui est une erreur.\n"
   ]
  },
  {
   "cell_type": "code",
   "execution_count": 1,
   "metadata": {},
   "outputs": [],
   "source": [
    "def delta(liste):\n",
    "    codage=[liste[0]]\n",
    "    for i in range(1,len(liste)):\n",
    "        codage.append(liste[i]-liste[i-1])\n",
    "    return codage"
   ]
  },
  {
   "cell_type": "code",
   "execution_count": 3,
   "metadata": {},
   "outputs": [
    {
     "data": {
      "text/plain": [
       "[42]"
      ]
     },
     "execution_count": 3,
     "metadata": {},
     "output_type": "execute_result"
    }
   ],
   "source": [
    ">>> delta([1000, 800, 802, 1000, 1003])\n",
    "[1000, -200, 2, 198, 3]\n",
    ">>> delta([42])\n",
    "[42] # (1)"
   ]
  }
 ],
 "metadata": {
  "interpreter": {
   "hash": "541a81e03b13eaa79a244450bcd1bd0799da73b0d2f9839d7eb1ccb3ae4431f1"
  },
  "kernelspec": {
   "display_name": "Python 3.10.0 64-bit",
   "language": "python",
   "name": "python3"
  },
  "language_info": {
   "codemirror_mode": {
    "name": "ipython",
    "version": 3
   },
   "file_extension": ".py",
   "mimetype": "text/x-python",
   "name": "python",
   "nbconvert_exporter": "python",
   "pygments_lexer": "ipython3",
   "version": "3.10.0"
  },
  "orig_nbformat": 4
 },
 "nbformat": 4,
 "nbformat_minor": 2
}
