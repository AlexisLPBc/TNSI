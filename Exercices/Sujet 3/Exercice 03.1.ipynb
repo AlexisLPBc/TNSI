{
 "cells": [
  {
   "cell_type": "markdown",
   "metadata": {},
   "source": [
    "Le codage par différence (delta encoding en anglais) permet de compresser un tableau de\n",
    "données en indiquant pour chaque donnée, sa différence avec la précédente (plutôt que la\n",
    "donnée elle-même). On se retrouve alors avec un tableau de données assez petites nécessitant\n",
    "moins de place en mémoire. Cette méthode se révèle efficace lorsque les valeurs consécutives\n",
    "sont proches.\n",
    "\n",
    "Programmer la fonction `delta` qui prend en paramètre un tableau non vide de nombres entiers\n",
    "et qui renvoie un tableau contenant les valeurs entières compressées à l’aide cette technique.\n",
    "\n",
    "Exemples :\n",
    "\n",
    "```python\n",
    ">>> delta([1000, 800, 802, 1000, 1003])\n",
    "[1000, -200, 2, 198, 3]\n",
    ">>> delta([42])\n",
    "[42] # (1)\n",
    "```\n",
    "\n",
    "1. Dans l'énoncé original, il n'y a pas de crochets autour de 42, ce qui est une erreur.\n"
   ]
  }
 ],
 "metadata": {
  "language_info": {
   "name": "python"
  },
  "orig_nbformat": 4
 },
 "nbformat": 4,
 "nbformat_minor": 2
}
