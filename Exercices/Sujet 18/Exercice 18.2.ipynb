{
 "cells": [
  {
   "cell_type": "markdown",
   "metadata": {},
   "source": [
    "Un mot palindrome peut se lire de la même façon de gauche à droite ou de droite à\n",
    "gauche : *bob*, *radar*, et *non* sont des mots palindromes.\n",
    "\n",
    "De même certains nombres sont eux aussi des palindromes : 33, 121, 345543.\n",
    "\n",
    "L’objectif de cet exercice est d’obtenir un programme Python permettant de tester si un\n",
    "nombre est un nombre palindrome.\n",
    "\n",
    "Pour remplir cette tâche, on vous demande de compléter le code des trois fonctions ci-\n",
    "dessous sachant que la fonction `est_nbre_palindrome` s’appuiera sur la fonction\n",
    "`est_palindrome` qui elle-même s’appuiera sur la fonction `inverse_chaine`.\n",
    "\n",
    "La fonction `inverse_chaine` inverse l'ordre des caractères d'une chaîne de caractères\n",
    "`chaine` et renvoie la chaîne inversée.\n",
    "\n",
    "La fonction `est_palindrome` teste si une chaine de caractères `chaine` est un\n",
    "palindrome. Elle renvoie `True` si c’est le cas et `False` sinon. Cette fonction s’appuie sur\n",
    "la fonction précédente.\n",
    "\n",
    "La fonction `est_nbre_palindrome` teste si un nombre `nbre` est un palindrome. Elle\n",
    "renvoie `True` si c’est le cas et `False` sinon. Cette fonction s’appuie sur la fonction\n",
    "précédente.\n",
    "\n",
    "Compléter le code des trois fonctions ci-dessous.\n",
    "\n",
    "```python\n",
    "def inverse_chaine(chaine):\n",
    "    result = ...\n",
    "    for caractere in chaine:\n",
    "        result = ...\n",
    "    return result\n",
    "\n",
    "def est_palindrome(chaine):\n",
    "    inverse = inverse_chaine(chaine)\n",
    "    return ...\n",
    "\n",
    "def est_nbre_palindrome(nbre):\n",
    "    chaine = ...\n",
    "    return est_palindrome(chaine)"
   ]
  },
  {
   "cell_type": "code",
   "execution_count": null,
   "metadata": {},
   "outputs": [],
   "source": [
    "def inverse_chaine(chaine):\n",
    "    result = \"\"\n",
    "    for caractere in chaine:\n",
    "        result = caractere + result \n",
    "    return result\n",
    "\n",
    "def est_palindrome(chaine):\n",
    "    inverse = inverse_chaine(chaine)\n",
    "    return chaine == inverse\n",
    "\n",
    "def est_nbre_palindrome(nbre):\n",
    "    chaine = str(nbre)\n",
    "    return est_palindrome(chaine)"
   ]
  }
 ],
 "metadata": {
  "language_info": {
   "name": "python"
  },
  "orig_nbformat": 4
 },
 "nbformat": 4,
 "nbformat_minor": 2
}
