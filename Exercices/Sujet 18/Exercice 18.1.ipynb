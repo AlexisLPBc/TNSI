{
 "cells": [
  {
   "cell_type": "markdown",
   "metadata": {},
   "source": [
    "On a relevé les valeurs moyennes annuelles des températures à Paris pour la période\n",
    "allant de 2013 à 2019. Les résultats ont été récupérés sous la forme de deux listes : l’une pour les températures, l’autre pour les années :\n",
    "```python\n",
    "t_moy = [14.9, 13.3, 13.1, 12.5, 13.0, 13.6, 13.7]\n",
    "annees = [2013, 2014, 2015, 2016, 2017, 2018, 2019]\n",
    "```\n",
    "\n",
    "Écrire la fonction `mini` qui prend en paramètres le tableau `releve` des relevés et le\n",
    "tableau `date` des dates et qui renvoie la plus petite valeur relevée au cours de la\n",
    "période et l’année correspondante.\n",
    "\n",
    "Exemple :\n",
    "```python\n",
    ">>> mini(t_moy, annees)\n",
    "(12.5, 2016)\n",
    "```"
   ]
  },
  {
   "cell_type": "code",
   "execution_count": null,
   "metadata": {},
   "outputs": [],
   "source": [
    "temperature_moy = [14.9, 13.3, 13.1, 12.5, 13.0, 13.6, 13.7]\n",
    "annees = [2013, 2014, 2015, 2016, 2017, 2018, 2019]\n",
    "def mini(releve, date):\n",
    "    temp_mini = releve[0]\n",
    "    date_mini = date[0]\n",
    "    for i in range(len(releve)):\n",
    "        if releve[i] < temp_mini:\n",
    "            temp_mini = releve[i]\n",
    "            date_mini = date[i]\n",
    "    return temp_mini, date_mini"
   ]
  }
 ],
 "metadata": {
  "language_info": {
   "name": "python"
  },
  "orig_nbformat": 4
 },
 "nbformat": 4,
 "nbformat_minor": 2
}
