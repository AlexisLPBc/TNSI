{
 "cells": [
  {
   "cell_type": "markdown",
   "metadata": {},
   "source": [
    "![image](data/272a.png){: .center width=30%}\n",
    "On travaille sur des dessins en noir et blanc obtenu à partir de pixels noirs et blancs :\n",
    "La figure « cœur » ci-dessus va servir d’exemple.\n",
    "On la représente par une grille de nombres, c’est-à-dire par une liste composée de sous-listes de même longueurs.\n",
    "Chaque sous-liste représentera donc une ligne du dessin.\n",
    "\n",
    "Dans le code ci-dessous, la fonction `affiche` permet d’afficher le dessin. Les pixels noirs\n",
    "(1 dans la grille) seront représentés par le caractère \"*\" et les blancs (0 dans la grille) par\n",
    "deux espaces.\n",
    "\n",
    "La fonction `zoomListe` prend en argument une liste `liste_depart` et un entier `k`. Elle\n",
    "renvoie une liste où chaque élément de `liste_depart` est dupliqué `k` fois.\n",
    "\n",
    "La fonction `zoomDessin` prend en argument la grille `dessin` et renvoie une grille où\n",
    "toutes les lignes de `dessin` sont zoomées `k` fois et répétées `k` fois.\n",
    "\n",
    "Soit le code ci-dessous :\n",
    "\n",
    "```python linenums='1'\n",
    "coeur = [[0, 0, 0, 0, 0, 0, 0, 0, 0, 0, 0, 0, 0], \\\n",
    "        [0, 0, 0, 1, 1, 0, 0, 0, 1, 1, 0, 0, 0], \\\n",
    "        [0, 0, 1, 0, 0, 1, 0, 1, 0, 0, 1, 0, 0], \\\n",
    "        [0, 1, 0, 0, 0, 0, 1, 0, 0, 0, 0, 1, 0], \\\n",
    "        [0, 1, 0, 0, 0, 0, 0, 0, 0, 0, 0, 1, 0], \\\n",
    "        [0, 1, 0, 0, 0, 0, 0, 0, 0, 0, 0, 1, 0], \\\n",
    "        [0, 0, 1, 0, 0, 0, 0, 0, 0, 0, 1, 0, 0], \\\n",
    "        [0, 0, 0, 1, 0, 0, 0, 0, 0, 1, 0, 0, 0], \\\n",
    "        [0, 0, 0, 0, 1, 0, 0, 0, 1, 0, 0, 0, 0], \\\n",
    "        [0, 0, 0, 0, 0, 1, 0, 1, 0, 0, 0, 0, 0], \\\n",
    "        [0, 0, 0, 0, 0, 0, 1, 0, 0, 0, 0, 0, 0], \\\n",
    "        [0, 0, 0, 0, 0, 0, 0, 0, 0, 0, 0, 0, 0]]\n",
    "\n",
    "def affiche(dessin):\n",
    "    ''' affichage d'une grille : les 1 sont représentés par \n",
    "        des \" *\" , les 0 par deux espaces \"  \" '''\n",
    "    for ligne in dessin:\n",
    "        for col in ligne:\n",
    "            if col == 1:\n",
    "                print(\" *\", end=\"\")\n",
    "            else:\n",
    "                print(\"  \", end=\"\")\n",
    "        print()\n",
    "\n",
    "\n",
    "def zoomListe(liste_depart,k):\n",
    "    '''renvoie une liste contenant k fois chaque \n",
    "    élément de liste_depart'''\n",
    "    liste_zoom = ...\n",
    "    for elt in ... :\n",
    "        for i in range(k):\n",
    "            ...\n",
    "    return liste_zoom\n",
    "\n",
    "def zoomDessin(grille,k):\n",
    "    '''renvoie une grille où les lignes sont zoomées k fois \n",
    "    ET répétées k fois'''\n",
    "    grille_zoom=[]\n",
    "    for elt in grille:\n",
    "        liste_zoom = ...\n",
    "        for i in range(k):\n",
    "            ... .append(...)\n",
    "    return grille_zoom"
   ]
  },
  {
   "cell_type": "code",
   "execution_count": 1,
   "metadata": {},
   "outputs": [],
   "source": [
    "def affiche(dessin):\n",
    "    ''' affichage d'une grille : les 1 sont représentés par \n",
    "        des \" *\" , les 0 par deux espaces \"  \" '''\n",
    "    for ligne in dessin:\n",
    "        for col in ligne:\n",
    "            if col == 1:\n",
    "                print(\" *\", end=\"\")\n",
    "            else:\n",
    "                print(\"  \", end=\"\")\n",
    "        print()"
   ]
  },
  {
   "cell_type": "code",
   "execution_count": 2,
   "metadata": {},
   "outputs": [],
   "source": [
    "def zoomListe(liste_depart,k):\n",
    "    '''renvoie une liste contenant k fois chaque \n",
    "    élément de liste_depart'''\n",
    "    liste_zoom = []\n",
    "    for element in liste_depart :\n",
    "        for i in range(k):\n",
    "            liste_zoom.append(element)\n",
    "    return liste_zoom\n"
   ]
  },
  {
   "cell_type": "code",
   "execution_count": 3,
   "metadata": {},
   "outputs": [],
   "source": [
    "def zoomDessin(grille,k):\n",
    "    '''renvoie une grille où les lignes sont zoomées k fois \n",
    "    ET répétées k fois'''\n",
    "    grille_zoom=[]\n",
    "    for element in grille:\n",
    "        liste_zoom = zoomListe(element, k)\n",
    "        for i in range(k):\n",
    "            grille_zoom.append(liste_zoom)\n",
    "    return grille_zoom"
   ]
  },
  {
   "cell_type": "code",
   "execution_count": 5,
   "metadata": {},
   "outputs": [
    {
     "name": "stdout",
     "output_type": "stream",
     "text": [
      "                          \n",
      "       * *       * *      \n",
      "     *     *   *     *    \n",
      "   *         *         *  \n",
      "   *                   *  \n",
      "   *                   *  \n",
      "     *               *    \n",
      "       *           *      \n",
      "         *       *        \n",
      "           *   *          \n",
      "             *            \n",
      "                          \n"
     ]
    }
   ],
   "source": [
    "affiche(coeur)"
   ]
  },
  {
   "cell_type": "code",
   "execution_count": 6,
   "metadata": {},
   "outputs": [
    {
     "name": "stdout",
     "output_type": "stream",
     "text": [
      "                                                                              \n",
      "                                                                              \n",
      "                                                                              \n",
      "                   * * * * * *                   * * * * * *                  \n",
      "                   * * * * * *                   * * * * * *                  \n",
      "                   * * * * * *                   * * * * * *                  \n",
      "             * * *             * * *       * * *             * * *            \n",
      "             * * *             * * *       * * *             * * *            \n",
      "             * * *             * * *       * * *             * * *            \n",
      "       * * *                         * * *                         * * *      \n",
      "       * * *                         * * *                         * * *      \n",
      "       * * *                         * * *                         * * *      \n",
      "       * * *                                                       * * *      \n",
      "       * * *                                                       * * *      \n",
      "       * * *                                                       * * *      \n",
      "       * * *                                                       * * *      \n",
      "       * * *                                                       * * *      \n",
      "       * * *                                                       * * *      \n",
      "             * * *                                           * * *            \n",
      "             * * *                                           * * *            \n",
      "             * * *                                           * * *            \n",
      "                   * * *                               * * *                  \n",
      "                   * * *                               * * *                  \n",
      "                   * * *                               * * *                  \n",
      "                         * * *                   * * *                        \n",
      "                         * * *                   * * *                        \n",
      "                         * * *                   * * *                        \n",
      "                               * * *       * * *                              \n",
      "                               * * *       * * *                              \n",
      "                               * * *       * * *                              \n",
      "                                     * * *                                    \n",
      "                                     * * *                                    \n",
      "                                     * * *                                    \n",
      "                                                                              \n",
      "                                                                              \n",
      "                                                                              \n"
     ]
    }
   ],
   "source": [
    "affiche(zoomDessin(coeur,3))"
   ]
  }
 ],
 "metadata": {
  "interpreter": {
   "hash": "a3d0e8e0c817ae3c7f78f66b04bafeb63523a0a50e6405ec1b074461715681e4"
  },
  "kernelspec": {
   "display_name": "Python 3.10.0 64-bit",
   "language": "python",
   "name": "python3"
  },
  "language_info": {
   "codemirror_mode": {
    "name": "ipython",
    "version": 3
   },
   "file_extension": ".py",
   "mimetype": "text/x-python",
   "name": "python",
   "nbconvert_exporter": "python",
   "pygments_lexer": "ipython3",
   "version": "3.10.0"
  },
  "orig_nbformat": 4
 },
 "nbformat": 4,
 "nbformat_minor": 2
}
