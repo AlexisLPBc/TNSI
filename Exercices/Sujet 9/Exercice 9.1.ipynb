{
 "cells": [
  {
   "cell_type": "code",
   "execution_count": null,
   "metadata": {},
   "outputs": [],
   "source": [
    "Soit un nombre entier supérieur ou égal à 1 :\n",
    "\n",
    "- s'il est pair, on le divise par 2 ;\n",
    "- s’il est impair, on le multiplie par 3 et on ajoute 1.\n",
    "\n",
    "Puis on recommence ces étapes avec le nombre entier obtenu, jusqu’à ce que l’on\n",
    "obtienne la valeur 1.\n",
    "\n",
    "On définit ainsi la suite $(U_n)$ par :\n",
    "\n",
    "- $U_0=k$, où $k$ est un entier choisi initialement;\n",
    "- $U_{n+1} = \\dfrac{U_n}{2}$ si $U_n$ est pair;\n",
    "- $U_{n+1} = 3 \\times U_n + 1$ si $U_n$ est impair.\n",
    "\n",
    "**On admet que, quel que soit l'entier ```k``` choisi au départ, la suite finit toujours sur la valeur 1.**\n",
    "\n",
    "Écrire une fonction ```calcul``` prenant en paramètres un entier ```k``` strictement positif et qui renvoie la liste des valeurs de la suite, en partant de ```k``` et jusqu'à atteindre 1.\n",
    "\n",
    "Exemple :\n",
    "```python\n",
    ">>> calcul(7)\n",
    "[7, 22, 11, 34, 17, 52, 26, 13, 40, 20, 10, 5, 16, 8, 4, 2, 1]\n",
    "```"
   ]
  }
 ],
 "metadata": {
  "language_info": {
   "name": "python"
  },
  "orig_nbformat": 4
 },
 "nbformat": 4,
 "nbformat_minor": 2
}
