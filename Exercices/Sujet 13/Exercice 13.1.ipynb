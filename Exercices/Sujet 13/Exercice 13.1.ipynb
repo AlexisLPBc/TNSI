{
 "cells": [
  {
   "cell_type": "markdown",
   "metadata": {},
   "source": [
    "On s’intéresse au problème du rendu de monnaie. On suppose qu’on dispose d’un\n",
    "nombre infini de billets de 5 euros, de pièces de 2 euros et de pièces de 1 euro.\n",
    "Le but est d’écrire une fonction nommée `rendu` dont le paramètre est un entier positif non\n",
    "nul `somme_a_rendre` et qui retourne une liste de trois entiers `n1`, `n2` et `n3` qui\n",
    "correspondent aux nombres de billets de 5 euros (`n1`) de pièces de 2 euros (`n2`) et de\n",
    "pièces de 1 euro (`n3`) à rendre afin que le total rendu soit égal à `somme_a_rendre`.\n",
    "\n",
    "On utilisera un algorithme glouton : on commencera par rendre le nombre maximal de\n",
    "billets de 5 euros, puis celui des pièces de 2 euros et enfin celui des pièces de 1 euros.\n",
    "\n",
    "Exemples :\n",
    "```python\n",
    ">>> rendu(13)\n",
    "[2,1,1]\n",
    ">>> rendu(64)\n",
    "[12,2,0]\n",
    ">>> rendu(89)\n",
    "[17,2,0]\n",
    "```"
   ]
  },
  {
   "cell_type": "code",
   "execution_count": null,
   "metadata": {},
   "outputs": [],
   "source": [
    "def rendu(s_a_rendre):\n",
    "    p = [5, 2, 1]\n",
    "    retour = [0, 0, 0]\n",
    "    r_a_rendre = s_a_rendre\n",
    "    for i in range(3):\n",
    "        retour[i] = r_a_rendre // p[i]\n",
    "        r_a_rendre = r_a_rendre % p[i]\n",
    "    return retour"
   ]
  }
 ],
 "metadata": {
  "language_info": {
   "name": "python"
  },
  "orig_nbformat": 4
 },
 "nbformat": 4,
 "nbformat_minor": 2
}
