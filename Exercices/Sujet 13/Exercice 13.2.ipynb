{
 "cells": [
  {
   "cell_type": "markdown",
   "metadata": {},
   "source": [
    "On veut écrire une classe pour gérer une file à l’aide d’une liste chaînée. On dispose d’une\n",
    "classe ```Maillon``` permettant la création d’un maillon de la chaîne, celui-ci étant constitué\n",
    "d’une valeur et d’une référence au maillon suivant de la chaîne :\n",
    "\n",
    "```python linenums='1'\n",
    "class Maillon :\n",
    "    def __init__(self,v) :\n",
    "        self.valeur = v\n",
    "        self.suivant = None"
   ]
  },
  {
   "cell_type": "markdown",
   "metadata": {},
   "source": [
    "class File :\n",
    "    def __init__(self) :\n",
    "        self.dernier_file = None\n",
    "\n",
    "    def enfile(self,element) :\n",
    "        nouveau_maillon = Maillon(...)\n",
    "        nouveau_maillon.suivant = self.dernier_file\n",
    "        self.dernier_file = ...\n",
    "\n",
    "    def est_vide(self) :\n",
    "        return self.dernier_file == None\n",
    "\n",
    "    def affiche(self) :\n",
    "        maillon = self.dernier_file\n",
    "        while maillon != ... :\n",
    "            print(maillon.valeur)\n",
    "            maillon = ...\n",
    "\n",
    "    def defile(self) :\n",
    "        if not self.est_vide() :\n",
    "            if self.dernier_file.suivant == None :\n",
    "                resultat = self.dernier_file.valeur\n",
    "                self.dernier_file = None\n",
    "                return resultat\n",
    "            maillon = ...\n",
    "            while maillon.suivant.suivant != None :\n",
    "                maillon = maillon.suivant\n",
    "            resultat = ...\n",
    "            maillon.suivant = None\n",
    "            return resultat\n",
    "        return None"
   ]
  },
  {
   "cell_type": "code",
   "execution_count": 1,
   "metadata": {},
   "outputs": [
    {
     "ename": "NameError",
     "evalue": "name 'File' is not defined",
     "output_type": "error",
     "traceback": [
      "\u001b[1;31m---------------------------------------------------------------------------\u001b[0m",
      "\u001b[1;31mNameError\u001b[0m                                 Traceback (most recent call last)",
      "\u001b[1;32mC:\\Users\\UTILIS~1\\AppData\\Local\\Temp/ipykernel_12156/2789041587.py\u001b[0m in \u001b[0;36m<module>\u001b[1;34m\u001b[0m\n\u001b[1;32m----> 1\u001b[1;33m \u001b[0mF\u001b[0m \u001b[1;33m=\u001b[0m \u001b[0mFile\u001b[0m\u001b[1;33m(\u001b[0m\u001b[1;33m)\u001b[0m\u001b[1;33m\u001b[0m\u001b[1;33m\u001b[0m\u001b[0m\n\u001b[0m\u001b[0;32m      2\u001b[0m \u001b[0mF\u001b[0m\u001b[1;33m.\u001b[0m\u001b[0mest_vide\u001b[0m\u001b[1;33m(\u001b[0m\u001b[1;33m)\u001b[0m\u001b[1;33m\u001b[0m\u001b[1;33m\u001b[0m\u001b[0m\n\u001b[0;32m      3\u001b[0m \u001b[1;32mTrue\u001b[0m\u001b[1;33m\u001b[0m\u001b[1;33m\u001b[0m\u001b[0m\n\u001b[0;32m      4\u001b[0m \u001b[0mF\u001b[0m\u001b[1;33m.\u001b[0m\u001b[0menfile\u001b[0m\u001b[1;33m(\u001b[0m\u001b[1;36m2\u001b[0m\u001b[1;33m)\u001b[0m\u001b[1;33m\u001b[0m\u001b[1;33m\u001b[0m\u001b[0m\n\u001b[0;32m      5\u001b[0m \u001b[0mF\u001b[0m\u001b[1;33m.\u001b[0m\u001b[0maffiche\u001b[0m\u001b[1;33m(\u001b[0m\u001b[1;33m)\u001b[0m\u001b[1;33m\u001b[0m\u001b[1;33m\u001b[0m\u001b[0m\n",
      "\u001b[1;31mNameError\u001b[0m: name 'File' is not defined"
     ]
    }
   ],
   "source": [
    ">>> F = File()\n",
    ">>> F.est_vide()\n",
    "True\n",
    ">>> F.enfile(2)\n",
    ">>> F.affiche()\n",
    "2\n",
    ">>> F.est_vide()\n",
    "False\n",
    ">>> F.enfile(5)\n",
    ">>> F.enfile(7)\n",
    ">>> F.affiche()\n",
    "7\n",
    "5\n",
    "2\n",
    ">>> F.defile()\n",
    "2\n",
    ">>> F.defile()\n",
    "5\n",
    ">>> F.affiche()\n",
    "7"
   ]
  },
  {
   "cell_type": "code",
   "execution_count": null,
   "metadata": {},
   "outputs": [],
   "source": [
    "    def __init__(self) :\n",
    "        self.dernier_file = None\n",
    "\n",
    "    def enfile(self,element) :\n",
    "        nouveau_maillon = Maillon(element)\n",
    "        nouveau_maillon.suivant = self.dernier_file\n",
    "        self.dernier_file = nouveau_maillon\n",
    "\n",
    "    def est_vide(self) :\n",
    "        return self.dernier_file == None\n",
    "\n",
    "    def affiche(self) :\n",
    "        maillon = self.dernier_file\n",
    "        while maillon != None :\n",
    "            print(maillon.valeur)\n",
    "            maillon = maillon.suivant\n",
    "\n",
    "    def defile(self) :\n",
    "        if not self.est_vide() :\n",
    "            if self.dernier_file.suivant == None :\n",
    "                resultat = self.dernier_file.valeur\n",
    "                self.dernier_file = None\n",
    "                return resultat\n",
    "            maillon = self.dernier_file\n",
    "            while maillon.suivant.suivant != None :\n",
    "                maillon = maillon.suivant\n",
    "            resultat = maillon.suivant.valeur\n",
    "            maillon.suivant = None\n",
    "            return resultat\n",
    "        return None"
   ]
  }
 ],
 "metadata": {
  "interpreter": {
   "hash": "a3d0e8e0c817ae3c7f78f66b04bafeb63523a0a50e6405ec1b074461715681e4"
  },
  "kernelspec": {
   "display_name": "Python 3.10.0 64-bit",
   "language": "python",
   "name": "python3"
  },
  "language_info": {
   "codemirror_mode": {
    "name": "ipython",
    "version": 3
   },
   "file_extension": ".py",
   "mimetype": "text/x-python",
   "name": "python",
   "nbconvert_exporter": "python",
   "pygments_lexer": "ipython3",
   "version": "3.10.0"
  },
  "orig_nbformat": 4
 },
 "nbformat": 4,
 "nbformat_minor": 2
}
