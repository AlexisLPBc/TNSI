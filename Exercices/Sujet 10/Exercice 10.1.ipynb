{
 "cells": [
  {
   "cell_type": "markdown",
   "metadata": {},
   "source": [
    "L’occurrence d’un caractère dans un phrase est le nombre de fois où ce caractère est\n",
    "présent.\n",
    "\n",
    "Exemples :\n",
    "\n",
    "- l’occurrence du caractère ‘o’ dans ‘bonjour’ est 2 ;\n",
    "- l’occurrence du caractère ‘b’ dans ‘Bébé’ est 1 ;\n",
    "- l’occurrence du caractère ‘B’ dans ‘Bébé’ est 1 ;\n",
    "- l’occurrence du caractère ‘ ‘ dans ‘Hello world !’ est 2.\n",
    "\n",
    "On cherche les occurrences des caractères dans une phrase. On souhaite stocker ces\n",
    "occurrences dans un dictionnaire dont les clefs seraient les caractères de la phrase et\n",
    "les valeurs l’occurrence de ces caractères.\n",
    "\n",
    "Par exemple : avec la phrase 'Hello world !' le dictionnaire est le suivant :\n",
    "\n",
    "`{'H': 1,'e': 1,'l': 3,'o': 2,' ': 2,'w': 1,'r': 1,'d': 1,'!': 1}`\n",
    "\n",
    "Écrire une fonction `occurrence_lettres` prenant comme paramètre une variable\n",
    "`phrase` de type `str`. Cette fonction doit renvoyer un dictionnaire de type constitué des\n",
    "occurrences des caractères présents dans la phrase."
   ]
  },
  {
   "cell_type": "code",
   "execution_count": null,
   "metadata": {},
   "outputs": [],
   "source": [
    "def occurence_lettres (phrase : str) -> dict :\n"
   ]
  },
  {
   "cell_type": "code",
   "execution_count": null,
   "metadata": {},
   "outputs": [],
   "source": [
    "occurence_lettres()"
   ]
  }
 ],
 "metadata": {
  "language_info": {
   "name": "python"
  },
  "orig_nbformat": 4
 },
 "nbformat": 4,
 "nbformat_minor": 2
}
