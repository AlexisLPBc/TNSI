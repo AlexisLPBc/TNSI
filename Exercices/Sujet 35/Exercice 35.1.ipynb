{
 "cells": [
  {
   "cell_type": "markdown",
   "metadata": {},
   "source": [
    "Écrire une fonction qui prend en paramètre un tableau d'entiers non vide et qui renvoie la\n",
    "moyenne de ces entiers. La fonction est spécifiée ci-après et doit passer les assertions\n",
    "fournies.\n",
    "```python\n",
    "def moyenne (tab):\n",
    "    '''\n",
    "    moyenne(list) -> float\n",
    "    Entrée : un tableau non vide d'entiers\n",
    "    Sortie : nombre de type float\n",
    "    Correspondant à la moyenne des valeurs présentes dans le\n",
    "    tableau\n",
    "    '''\n",
    "\n",
    "assert moyenne([1]) == 1\n",
    "assert moyenne([1, 2, 3, 4, 5, 6, 7] == 4\n",
    "assert moyenne([1, 2]) == 1.5\n",
    "```\n"
   ]
  }
 ],
 "metadata": {
  "language_info": {
   "name": "python"
  },
  "orig_nbformat": 4
 },
 "nbformat": 4,
 "nbformat_minor": 2
}
