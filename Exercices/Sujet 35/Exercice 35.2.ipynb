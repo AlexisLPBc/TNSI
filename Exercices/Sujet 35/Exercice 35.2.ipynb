{
 "cells": [
  {
   "cell_type": "markdown",
   "metadata": {},
   "source": [
    "Le but de l'exercice est de compléter une fonction qui détermine si une valeur est présente\n",
    "dans un tableau de valeurs triées dans l'ordre croissant.\n",
    "\n",
    "L'algorithme traite le cas du tableau vide.\n",
    "\n",
    "L'algorithme est écrit pour que la recherche dichotomique ne se fasse que dans le cas où\n",
    "la valeur est comprise entre les valeurs extrêmes du tableau.\n",
    "\n",
    "On distingue les trois cas qui renvoient `False` en renvoyant `False, 1` , `False, 2` et\n",
    "`False, 3`.\n",
    "\n",
    "Compléter l'algorithme de dichotomie donné ci-après.\n",
    "\n",
    "```python linenums='1'\n",
    "def dichotomie(tab, x):\n",
    "    \"\"\"\n",
    "    tab : tableau trié dans l’ordre croissant\n",
    "    x : nombre entier\n",
    "    La fonction renvoie True si tab contient x et False sinon\n",
    "    \"\"\"\n",
    "    # cas du tableau vide\n",
    "    if ...:\n",
    "        return False,1\n",
    "    # cas où x n'est pas compris entre les valeurs extrêmes\n",
    "    if (x < tab[0]) or ...:\n",
    "        return False, 2\n",
    "    debut = 0\n",
    "    fin = len(tab) - 1\n",
    "    while debut <= fin:\n",
    "        m = ...\n",
    "        if x == tab[m]:\n",
    "            return ...\n",
    "        if x > tab[m]:\n",
    "            debut = m + 1\n",
    "        else:\n",
    "            fin = ...\n",
    "    return ...\n"
   ]
  }
 ],
 "metadata": {
  "language_info": {
   "name": "python"
  },
  "orig_nbformat": 4
 },
 "nbformat": 4,
 "nbformat_minor": 2
}
