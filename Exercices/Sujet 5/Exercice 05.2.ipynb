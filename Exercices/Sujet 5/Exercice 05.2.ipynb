{
 "cells": [
  {
   "cell_type": "markdown",
   "metadata": {},
   "source": [
    "On dispose d’un programme permettant de créer un objet de type `PaquetDeCarte`,\n",
    "selon les éléments indiqués dans le code ci-dessous.\n",
    "Compléter ce code aux endroits indiqués par `#A compléter`, puis ajouter des\n",
    "assertions dans l’initialiseur de `Carte`, ainsi que dans la méthode `getCarteAt()`.\n",
    "\n",
    "```python linenums='1'\n",
    "class Carte:\n",
    "    \"\"\"Initialise Couleur (entre 1 à 4), et Valeur (entre 1 à 13)\"\"\"\n",
    "    def __init__(self, c, v):\n",
    "        self.Couleur = c\n",
    "        self.Valeur = v\n",
    "\n",
    "    \"\"\"Renvoie le nom de la Carte As, 2, ... 10, Valet, Dame, Roi\"\"\"\n",
    "    def getNom(self):\n",
    "        if (self.Valeur > 1 and self.Valeur < 11):\n",
    "            return str(self.Valeur)\n",
    "        elif self.Valeur == 11:\n",
    "            return \"Valet\"\n",
    "        elif self.Valeur == 12:\n",
    "            return \"Dame\"\n",
    "        elif self.Valeur == 13:\n",
    "            return \"Roi\"\n",
    "        else:\n",
    "            return \"As\"\n",
    "\n",
    "    \"\"\"Renvoie la couleur de la Carte (parmi pique, coeur, carreau, trefle\"\"\"\n",
    "    def getCouleur(self):\n",
    "        return ['pique', 'coeur', 'carreau', 'trefle'][self.Couleur - 1]\n",
    "\n",
    "class PaquetDeCarte:\n",
    "    def __init__(self):\n",
    "        self.contenu = []\n",
    "\n",
    "    \"\"\"Remplit le paquet de cartes\"\"\"\n",
    "    def remplir(self):\n",
    "        #A compléter\n",
    "\n",
    "    \"\"\"Renvoie la Carte qui se trouve à la position donnée\"\"\"\n",
    "    def getCarteAt(self, pos):\n",
    "        #A compléter\n"
   ]
  }
 ],
 "metadata": {
  "language_info": {
   "name": "python"
  },
  "orig_nbformat": 4
 },
 "nbformat": 4,
 "nbformat_minor": 2
}
