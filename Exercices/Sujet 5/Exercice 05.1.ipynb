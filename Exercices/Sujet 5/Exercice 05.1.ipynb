{
 "cells": [
  {
   "cell_type": "markdown",
   "metadata": {},
   "source": [
    "Écrire une fonction `rechercheMinMax` qui prend en paramètre un tableau de nombres\n",
    "non triés `tab`, et qui renvoie la plus petite et la plus grande valeur du tableau sous la\n",
    "forme d’un dictionnaire à deux clés ‘min’ et ‘max’. Les tableaux seront représentés sous\n",
    "forme de liste Python.\n",
    "\n",
    "Exemples :\n",
    "```python\n",
    ">>> tableau = [0, 1, 4, 2, -2, 9, 3, 1, 7, 1]\n",
    ">>> resultat = rechercheMinMax(tableau)\n",
    ">>> resultat\n",
    "{'min': -2, 'max': 9}\n",
    ">>> tableau = []\n",
    ">>> resultat = rechercheMinMax(tableau)\n",
    ">>> resultat\n",
    "{'min': None, 'max': None}\n",
    "```\n"
   ]
  }
 ],
 "metadata": {
  "language_info": {
   "name": "python"
  },
  "orig_nbformat": 4
 },
 "nbformat": 4,
 "nbformat_minor": 2
}
