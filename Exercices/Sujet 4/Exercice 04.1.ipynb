{
 "cells": [
  {
   "cell_type": "markdown",
   "metadata": {},
   "source": [
    "Écrire une fonction `recherche` qui prend en paramètre un tableau de nombres entiers\n",
    "`tab`, et qui renvoie la liste (éventuellement vide) des couples d'entiers consécutifs\n",
    "successifs qu'il peut y avoir dans `tab`.\n",
    "\n",
    "Exemples :\n",
    "```python\n",
    ">>> recherche([1, 4, 3, 5])\n",
    "[]\n",
    ">>> recherche([1, 4, 5, 3])\n",
    "[(4, 5)]\n",
    ">>> recherche([7, 1, 2, 5, 3, 4])\n",
    "[(1, 2), (3, 4)]\n",
    ">>> recherche([5, 1, 2, 3, 8, -5, -4, 7])\n",
    "[(1, 2), (2, 3), (-5, -4)]\n",
    "```\n"
   ]
  },
  {
   "cell_type": "code",
   "execution_count": null,
   "metadata": {},
   "outputs": [],
   "source": [
    "def recherche"
   ]
  }
 ],
 "metadata": {
  "language_info": {
   "name": "python"
  },
  "orig_nbformat": 4
 },
 "nbformat": 4,
 "nbformat_minor": 2
}
