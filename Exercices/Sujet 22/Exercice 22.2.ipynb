{
 "cells": [
  {
   "cell_type": "markdown",
   "metadata": {},
   "source": [
    "Un nombre premier est un nombre entier naturel qui admet exactement deux diviseurs distincts\n",
    "entiers et positifs : 1 et lui-même. \n",
    "\n",
    "Le crible d’Ératosthène permet de déterminer les nombres premiers plus petit qu’un certain\n",
    "nombre N fixé. \n",
    "\n",
    "On considère pour cela un tableau `tab` de N booléens, initialement tous égaux à `True`, sauf\n",
    "`tab[0]` et `tab[1]` qui valent `False`, 0 et 1 n’étant pas des nombres premiers.  \n",
    "\n",
    "On parcourt alors ce tableau de gauche à droite.  \n",
    "\n",
    "Pour chaque indice `i` :\n",
    "\n",
    "- si `tab[i]` vaut `True` : le nombre `i` est premier et on donne la valeur `False` à toutes les\n",
    "cases du tableau dont l’indice est un multiple de `i`, à partir de `2*i` (c’est-à-dire `2*i`, `3*i` ...).\n",
    "\n",
    "- si `tab[i]` vaut `False` : le nombre `i` n’est pas premier et on n’effectue aucun\n",
    "changement sur le tableau. \n",
    "\n",
    "On dispose de la fonction `crible`, incomplète et donnée ci-dessous, prenant en paramètre un\n",
    "entier N strictement positif et renvoyant un tableau contenant tous les nombres premiers plus\n",
    "petits que N.\n",
    "\n",
    "```python linenums='1'\n",
    "def crible(N):\n",
    "    \"\"\"\n",
    "    Renvoie un tableau contenant tous les nombres premiers plus petits que N\n",
    "    \"\"\"\n",
    "    premiers = []\n",
    "    tab = [True] * N\n",
    "    tab[0], tab[1] = False, False\n",
    "    for i in range(..., N):\n",
    "        if tab[i] == ...:\n",
    "            premiers.append(...)\n",
    "            for multiple in range(2*i, N, ...):\n",
    "                tab[multiple] = ...\n",
    "    return premiers\n",
    "\n",
    "assert crible(40) == [2, 3, 5, 7, 11, 13, 17, 19, 23, 29, 31, 37]"
   ]
  },
  {
   "cell_type": "code",
   "execution_count": null,
   "metadata": {},
   "outputs": [],
   "source": []
  }
 ],
 "metadata": {
  "language_info": {
   "name": "python"
  },
  "orig_nbformat": 4
 },
 "nbformat": 4,
 "nbformat_minor": 2
}
