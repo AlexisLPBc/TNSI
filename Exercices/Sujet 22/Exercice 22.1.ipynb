{
 "cells": [
  {
   "cell_type": "markdown",
   "metadata": {},
   "source": [
    "Programmer une fonction `renverse`, prenant en paramètre une chaîne de caractères non vide\n",
    "`mot` et renvoie une chaîne de caractères en inversant ceux de la chaîne `mot`.\n",
    "\n",
    "Exemple :\n",
    "\n",
    "```python\n",
    ">>> renverse(\"informatique\")\n",
    "\"euqitamrofni\"\n",
    "```"
   ]
  },
  {
   "cell_type": "code",
   "execution_count": null,
   "metadata": {},
   "outputs": [],
   "source": []
  }
 ],
 "metadata": {
  "language_info": {
   "name": "python"
  },
  "orig_nbformat": 4
 },
 "nbformat": 4,
 "nbformat_minor": 2
}
