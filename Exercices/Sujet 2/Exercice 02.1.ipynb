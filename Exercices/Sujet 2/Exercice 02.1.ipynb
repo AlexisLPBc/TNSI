{
 "cells": [
  {
   "cell_type": "markdown",
   "metadata": {},
   "source": [
    "Soit le couple (`note`,`coefficient`):\n",
    "\n",
    "- `note` est un nombre de type flottant (`float`) compris entre 0 et 20 ;\n",
    "- `coefficient` est un nombre entier positif.\n",
    "\n",
    "Les résultats aux évaluations d'un élève sont regroupés dans une liste composée de\n",
    "couples (`note`,`coefficient`).\n",
    "\n",
    "Écrire une fonction moyenne qui renvoie la moyenne pondérée de cette liste donnée en\n",
    "paramètre.\n",
    "\n",
    "Par exemple, l’expression `moyenne([(15,2),(9,1),(12,3)])` devra renvoyer le\n",
    "résultat du calcul suivant :\n",
    "\n",
    "$\\dfrac{2 \\times 15 + 1 \\times 9 + 3 \\times 12 }{2+1+3}=12,5$\n"
   ]
  }
 ],
 "metadata": {
  "language_info": {
   "name": "python"
  },
  "orig_nbformat": 4
 },
 "nbformat": 4,
 "nbformat_minor": 2
}
