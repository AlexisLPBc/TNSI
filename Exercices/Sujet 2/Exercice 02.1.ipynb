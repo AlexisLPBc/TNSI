{
 "cells": [
  {
   "cell_type": "markdown",
   "metadata": {},
   "source": [
    "Soit le couple (`note`,`coefficient`):\n",
    "\n",
    "- `note` est un nombre de type flottant (`float`) compris entre 0 et 20 ;\n",
    "- `coefficient` est un nombre entier positif.\n",
    "\n",
    "Les résultats aux évaluations d'un élève sont regroupés dans une liste composée de\n",
    "couples (`note`,`coefficient`).\n",
    "\n",
    "Écrire une fonction moyenne qui renvoie la moyenne pondérée de cette liste donnée en\n",
    "paramètre.\n",
    "\n",
    "Par exemple, l’expression `moyenne([(15,2),(9,1),(12,3)])` devra renvoyer le\n",
    "résultat du calcul suivant :\n",
    "\n",
    "$\\dfrac{2 \\times 15 + 1 \\times 9 + 3 \\times 12 }{2+1+3}=12,5$\n"
   ]
  },
  {
   "cell_type": "code",
   "execution_count": 10,
   "metadata": {},
   "outputs": [],
   "source": [
    "def moyenne(tableau: list):\n",
    "    somme_notes_ponderees=0\n",
    "    somme_coef=0\n",
    "    for controle in tableau :\n",
    "        notes_ponderees = controle[0]\n",
    "        coef = controle [1]\n",
    "        somme_notes_ponderees += notes_ponderees * coef\n",
    "        somme_coef += coef\n",
    "    return somme_notes_ponderees / somme_coef"
   ]
  },
  {
   "cell_type": "code",
   "execution_count": 13,
   "metadata": {},
   "outputs": [
    {
     "data": {
      "text/plain": [
       "17.166666666666668"
      ]
     },
     "execution_count": 13,
     "metadata": {},
     "output_type": "execute_result"
    }
   ],
   "source": [
    "moyenne([(15,2),(13,1),(20,3)])"
   ]
  }
 ],
 "metadata": {
  "interpreter": {
   "hash": "541a81e03b13eaa79a244450bcd1bd0799da73b0d2f9839d7eb1ccb3ae4431f1"
  },
  "kernelspec": {
   "display_name": "Python 3.10.0 64-bit",
   "language": "python",
   "name": "python3"
  },
  "language_info": {
   "codemirror_mode": {
    "name": "ipython",
    "version": 3
   },
   "file_extension": ".py",
   "mimetype": "text/x-python",
   "name": "python",
   "nbconvert_exporter": "python",
   "pygments_lexer": "ipython3",
   "version": "3.10.0"
  },
  "orig_nbformat": 4
 },
 "nbformat": 4,
 "nbformat_minor": 2
}
