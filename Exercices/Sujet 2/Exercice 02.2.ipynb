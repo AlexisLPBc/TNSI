{
 "cells": [
  {
   "cell_type": "markdown",
   "metadata": {},
   "source": [
    "On cherche à déterminer les valeurs du triangle de Pascal. Dans ce tableau de forme\n",
    "triangulaire, chaque ligne commence et se termine par le nombre 1. Par ailleurs, la valeur\n",
    "qui occupe une case située à l’intérieur du tableau s’obtient en ajoutant les valeurs des\n",
    "deux cases situées juste au-dessus, comme l’indique la figure suivante :\n",
    "\n",
    "![image](data/img9_2t.png){: .center width=60%}\n",
    "\n",
    "Compléter la fonction `pascal` ci-après. Elle doit renvoyer une liste correspondant au\n",
    "triangle de Pascal de la ligne `1` à la ligne `n` où `n` est un nombre entier supérieur ou égal à\n",
    "`2` (le tableau sera contenu dans la variable `C`). La variable `Ck` doit, quant à elle, contenir,\n",
    "à l’étape numéro `k`, la `k`-ième ligne du tableau.\n",
    "\n",
    "```python linenums='1'\n",
    "def pascal(n):\n",
    "    C= [[1]]\n",
    "    for k in range(1,...):\n",
    "        Ck = [...]\n",
    "        for i in range(1,k):\n",
    "            Ck.append(C[...][i-1]+C[...][...] )\n",
    "        Ck.append(...)\n",
    "        C.append(Ck)\n",
    "    return C\n"
   ]
  }
 ],
 "metadata": {
  "language_info": {
   "name": "python"
  },
  "orig_nbformat": 4
 },
 "nbformat": 4,
 "nbformat_minor": 2
}
