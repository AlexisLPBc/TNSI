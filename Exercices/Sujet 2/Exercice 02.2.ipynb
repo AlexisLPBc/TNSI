{
 "cells": [
  {
   "cell_type": "markdown",
   "metadata": {},
   "source": [
    "On cherche à déterminer les valeurs du triangle de Pascal. Dans ce tableau de forme\n",
    "triangulaire, chaque ligne commence et se termine par le nombre 1. Par ailleurs, la valeur\n",
    "qui occupe une case située à l’intérieur du tableau s’obtient en ajoutant les valeurs des\n",
    "deux cases situées juste au-dessus, comme l’indique la figure suivante :\n",
    "\n",
    "![image](data/img9_2t.png){: .center width=60%}\n",
    "\n",
    "Compléter la fonction `pascal` ci-après. Elle doit renvoyer une liste correspondant au\n",
    "triangle de Pascal de la ligne `1` à la ligne `n` où `n` est un nombre entier supérieur ou égal à\n",
    "`2` (le tableau sera contenu dans la variable `C`). La variable `Ck` doit, quant à elle, contenir,\n",
    "à l’étape numéro `k`, la `k`-ième ligne du tableau.\n",
    "\n",
    "```python linenums='1'\n",
    "def pascal(n):\n",
    "    C= [[1]]\n",
    "    for k in range(1,...):\n",
    "        Ck = [...]\n",
    "        for i in range(1,k):\n",
    "            Ck.append(C[...][i-1]+C[...][...] )\n",
    "        Ck.append(...)\n",
    "        C.append(Ck)\n",
    "    return C\n"
   ]
  },
  {
   "cell_type": "code",
   "execution_count": 1,
   "metadata": {},
   "outputs": [],
   "source": [
    "def pascal(n):\n",
    "    C= [[1]]\n",
    "    for k in range(1,n+1):\n",
    "        Ck = [1]\n",
    "        for i in range(1,k):\n",
    "            Ck.append(C[k-1][i-1]+C[k-1][i] )\n",
    "        Ck.append(1)\n",
    "        C.append(Ck)\n",
    "    return C"
   ]
  }
 ],
 "metadata": {
  "interpreter": {
   "hash": "541a81e03b13eaa79a244450bcd1bd0799da73b0d2f9839d7eb1ccb3ae4431f1"
  },
  "kernelspec": {
   "display_name": "Python 3.10.0 64-bit",
   "language": "python",
   "name": "python3"
  },
  "language_info": {
   "codemirror_mode": {
    "name": "ipython",
    "version": 3
   },
   "file_extension": ".py",
   "mimetype": "text/x-python",
   "name": "python",
   "nbconvert_exporter": "python",
   "pygments_lexer": "ipython3",
   "version": "3.10.0"
  },
  "orig_nbformat": 4
 },
 "nbformat": 4,
 "nbformat_minor": 2
}
