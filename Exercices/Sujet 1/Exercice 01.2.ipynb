{
 "cells": [
  {
   "cell_type": "markdown",
   "metadata": {},
   "source": [
    "On s’intéresse à un algorithme récursif qui permet de rendre la monnaie à partir d’une\n",
    "liste donnée de valeurs de pièces et de billets.\n",
    "\n",
    "Le système monétaire est donné sous\n",
    "forme d’une liste `pieces=[100, 50, 20, 10, 5, 2, 1]`.\n",
    "(on supposera qu’il n’y a\n",
    "pas de limitation quant à leur nombre).\n",
    "\n",
    "On cherche à donner la liste de pièces à rendre\n",
    "pour une somme donnée en argument.\n",
    "Compléter le code Python ci-dessous de la fonction `rendu_glouton` qui implémente cet\n",
    "algorithme et renvoie la liste des pièces à rendre.\n",
    "\n",
    "```python linenums='1'\n",
    "pieces = [100,50,20,10,5,2,1] # (1)\n",
    "\n",
    "def rendu_glouton(arendre, solution=[], i=0):\n",
    "    if arendre == 0:\n",
    "        return ...\n",
    "    p = pieces[i]\n",
    "    if p <= ... :\n",
    "        solution.append(...)\n",
    "        return rendu_glouton(arendre - p, solution,i)\n",
    "    else :\n",
    "        return rendu_glouton(arendre, solution, ...)\n"
   ]
  },
  {
   "cell_type": "code",
   "execution_count": null,
   "metadata": {},
   "outputs": [],
   "source": [
    "def rendu_glouton(arendre, solution=[], i=0):\n",
    "    if arendre == 0:\n",
    "        return solution\n",
    "    p = pieces[i]\n",
    "    if p <= arendre :\n",
    "        solution.append(p)\n",
    "        return rendu_glouton(arendre - p, solution,i)\n",
    "    else :\n",
    "        return rendu_glouton(arendre, solution, i+1)"
   ]
  }
 ],
 "metadata": {
  "language_info": {
   "name": "python"
  },
  "orig_nbformat": 4
 },
 "nbformat": 4,
 "nbformat_minor": 2
}
