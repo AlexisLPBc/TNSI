{
 "cells": [
  {
   "cell_type": "markdown",
   "metadata": {},
   "source": [
    "Écrire une fonction `recherche` qui prend en paramètres `caractere`, un caractère, et\n",
    "`mot`, une chaîne de caractères, et qui renvoie le nombre d’occurrences de `caractere`\n",
    "dans `mot`, c’est-à-dire le nombre de fois où `caractere` apparaît dans `mot`.\n",
    "\n",
    "Exemples :\n",
    "```python\n",
    ">>> recherche('e', \"sciences\")\n",
    "2\n",
    ">>> recherche('i',\"mississippi\")\n",
    "4\n",
    ">>> recherche('a',\"mississippi\")\n",
    "0\n",
    "```"
   ]
  },
  {
   "cell_type": "code",
   "execution_count": 1,
   "metadata": {},
   "outputs": [],
   "source": [
    "def recherche(caractere, mot):\n",
    "    s = 0\n",
    "    for lettre in mot:\n",
    "        if lettre == caractere:\n",
    "            s += 1\n",
    "    return s\n"
   ]
  },
  {
   "cell_type": "code",
   "execution_count": 2,
   "metadata": {},
   "outputs": [
    {
     "data": {
      "text/plain": [
       "2"
      ]
     },
     "execution_count": 2,
     "metadata": {},
     "output_type": "execute_result"
    }
   ],
   "source": [
    "recherche(\"e\",\"aurelien\")"
   ]
  }
 ],
 "metadata": {
  "interpreter": {
   "hash": "541a81e03b13eaa79a244450bcd1bd0799da73b0d2f9839d7eb1ccb3ae4431f1"
  },
  "kernelspec": {
   "display_name": "Python 3.10.0 64-bit",
   "language": "python",
   "name": "python3"
  },
  "language_info": {
   "codemirror_mode": {
    "name": "ipython",
    "version": 3
   },
   "file_extension": ".py",
   "mimetype": "text/x-python",
   "name": "python",
   "nbconvert_exporter": "python",
   "pygments_lexer": "ipython3",
   "version": "3.10.0"
  },
  "orig_nbformat": 4
 },
 "nbformat": 4,
 "nbformat_minor": 2
}
