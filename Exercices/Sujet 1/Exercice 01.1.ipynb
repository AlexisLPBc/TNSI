{
 "cells": [
  {
   "cell_type": "markdown",
   "metadata": {},
   "source": [
    "Écrire une fonction `recherche` qui prend en paramètres `caractere`, un caractère, et\n",
    "`mot`, une chaîne de caractères, et qui renvoie le nombre d’occurrences de `caractere`\n",
    "dans `mot`, c’est-à-dire le nombre de fois où `caractere` apparaît dans `mot`.\n",
    "\n",
    "Exemples :\n",
    "```python\n",
    ">>> recherche('e', \"sciences\")\n",
    "2\n",
    ">>> recherche('i',\"mississippi\")\n",
    "4\n",
    ">>> recherche('a',\"mississippi\")\n",
    "0\n",
    "```"
   ]
  }
 ],
 "metadata": {
  "language_info": {
   "name": "python"
  },
  "orig_nbformat": 4
 },
 "nbformat": 4,
 "nbformat_minor": 2
}
