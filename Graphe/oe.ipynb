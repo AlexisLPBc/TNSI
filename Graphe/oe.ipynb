{
 "cells": [
  {
   "cell_type": "code",
   "execution_count": 2,
   "metadata": {},
   "outputs": [],
   "source": [
    "def premiere_position(objets,pMaxi):\n",
    "    repartition=[]\n",
    "    repartition.append([])\n",
    "\n",
    "    for objet in objets:\n",
    "        ajout = False\n",
    "        for boite in repartition:\n",
    "            if poids_boite(boite) + objet <=pMaxi:\n",
    "                boite.append(objet)\n",
    "                ajout = True\n",
    "                break\n",
    "        if not ajout :\n",
    "            repartition.append([objet])\n",
    "    return repartition"
   ]
  },
  {
   "cell_type": "code",
   "execution_count": 3,
   "metadata": {},
   "outputs": [],
   "source": [
    "def poids_boite(boite):\n",
    "    poids=0\n",
    "    for object in boite :\n",
    "        poids+=object\n",
    "    return poids"
   ]
  },
  {
   "cell_type": "code",
   "execution_count": 4,
   "metadata": {},
   "outputs": [
    {
     "data": {
      "text/plain": [
       "[[1, 1, 1, 1, 2, 3, 3], [6], [10], [10]]"
      ]
     },
     "execution_count": 4,
     "metadata": {},
     "output_type": "execute_result"
    }
   ],
   "source": [
    "premiere_position(sorted([1,2,1,3,3,10,10,1,1,6]),15)"
   ]
  },
  {
   "cell_type": "code",
   "execution_count": 5,
   "metadata": {},
   "outputs": [
    {
     "data": {
      "text/plain": [
       "[[1, 2, 1, 3, 3, 1, 1], [10], [10], [6]]"
      ]
     },
     "execution_count": 5,
     "metadata": {},
     "output_type": "execute_result"
    }
   ],
   "source": [
    "premiere_position([1,2,1,3,3,10,10,1,1,6],15)"
   ]
  },
  {
   "cell_type": "code",
   "execution_count": 6,
   "metadata": {},
   "outputs": [
    {
     "data": {
      "text/plain": [
       "[1, 1, 1, 1, 2, 3, 3, 6, 10, 10]"
      ]
     },
     "execution_count": 6,
     "metadata": {},
     "output_type": "execute_result"
    }
   ],
   "source": [
    "sorted([1,2,1,3,3,10,10,1,1,6])"
   ]
  },
  {
   "cell_type": "code",
   "execution_count": 7,
   "metadata": {},
   "outputs": [],
   "source": [
    "class Cellule():\n",
    "    def __init__(self, valeur, suivante = None):\n",
    "        self.valeur = valeur\n",
    "        self.suivante = suivante # type Cellule, None par défaut"
   ]
  },
  {
   "cell_type": "markdown",
   "metadata": {},
   "source": [
    "ex1\n",
    "1)"
   ]
  }
 ],
 "metadata": {
  "interpreter": {
   "hash": "541a81e03b13eaa79a244450bcd1bd0799da73b0d2f9839d7eb1ccb3ae4431f1"
  },
  "kernelspec": {
   "display_name": "Python 3.10.0 64-bit",
   "language": "python",
   "name": "python3"
  },
  "language_info": {
   "codemirror_mode": {
    "name": "ipython",
    "version": 3
   },
   "file_extension": ".py",
   "mimetype": "text/x-python",
   "name": "python",
   "nbconvert_exporter": "python",
   "pygments_lexer": "ipython3",
   "version": "3.10.0"
  },
  "orig_nbformat": 4
 },
 "nbformat": 4,
 "nbformat_minor": 2
}
