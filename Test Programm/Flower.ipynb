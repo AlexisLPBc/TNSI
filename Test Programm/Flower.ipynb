{
 "cells": [
  {
   "cell_type": "code",
   "execution_count": 1,
   "metadata": {},
   "outputs": [],
   "source": [
    "import turtle\n",
    "t=turtle.Turtle()\n",
    "s=turtle.Screen()\n",
    "s.bgcolor('black')\n",
    "t.speed(0)\n",
    "\n",
    "col=['yellow','red','pink','cyan','green','blue']\n",
    "\n",
    "for i in range (120):\n",
    "    t.pencolor(col[i%6])\n",
    "    t.circle(190-i/2,90)\n",
    "    t.lt(90)\n",
    "    t.circle(190-i/3,90)\n",
    "    t.lt(60)\n",
    "s.exitonclick()"
   ]
  }
 ],
 "metadata": {
  "interpreter": {
   "hash": "541a81e03b13eaa79a244450bcd1bd0799da73b0d2f9839d7eb1ccb3ae4431f1"
  },
  "kernelspec": {
   "display_name": "Python 3.10.0 64-bit",
   "language": "python",
   "name": "python3"
  },
  "language_info": {
   "codemirror_mode": {
    "name": "ipython",
    "version": 3
   },
   "file_extension": ".py",
   "mimetype": "text/x-python",
   "name": "python",
   "nbconvert_exporter": "python",
   "pygments_lexer": "ipython3",
   "version": "3.10.0"
  },
  "orig_nbformat": 4
 },
 "nbformat": 4,
 "nbformat_minor": 2
}
