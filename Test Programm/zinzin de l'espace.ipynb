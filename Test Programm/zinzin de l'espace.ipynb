{
 "cells": [
  {
   "cell_type": "code",
   "execution_count": 2,
   "metadata": {},
   "outputs": [],
   "source": [
    "import turtle\n",
    "colors=['orange','red','pink','yellow','blue','green']\n",
    "screen=turtle.Screen()\n",
    "trtl=turtle.Turtle()\n",
    "trtl.speed(50)\n",
    "screen.bgcolor('black')\n",
    "for x in range(120):\n",
    "    trtl.pencolor(colors[x%6])\n",
    "    trtl.width(x/5+1)\n",
    "    trtl.forward(x)\n",
    "    trtl.left(20)\n",
    "    \n"
   ]
  }
 ],
 "metadata": {
  "interpreter": {
   "hash": "541a81e03b13eaa79a244450bcd1bd0799da73b0d2f9839d7eb1ccb3ae4431f1"
  },
  "kernelspec": {
   "display_name": "Python 3.10.0 64-bit",
   "language": "python",
   "name": "python3"
  },
  "language_info": {
   "codemirror_mode": {
    "name": "ipython",
    "version": 3
   },
   "file_extension": ".py",
   "mimetype": "text/x-python",
   "name": "python",
   "nbconvert_exporter": "python",
   "pygments_lexer": "ipython3",
   "version": "3.10.0"
  },
  "orig_nbformat": 4
 },
 "nbformat": 4,
 "nbformat_minor": 2
}
