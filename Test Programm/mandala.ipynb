{
 "cells": [
  {
   "cell_type": "code",
   "execution_count": 1,
   "metadata": {},
   "outputs": [],
   "source": [
    "import turtle\n",
    "import colorsys\n",
    "\n",
    "t=turtle.Turtle()\n",
    "s=turtle.Screen()\n",
    "s.bgcolor('black')\n",
    "t.speed(0)\n",
    "n=36\n",
    "h=0\n",
    "for j in range(360):\n",
    "    c=colorsys.hsv_to_rgb(h,1,0.8)\n",
    "    h+=1/n\n",
    "    t.color(c)\n",
    "    t.circle(180)\n",
    "    t.left(10)"
   ]
  }
 ],
 "metadata": {
  "interpreter": {
   "hash": "541a81e03b13eaa79a244450bcd1bd0799da73b0d2f9839d7eb1ccb3ae4431f1"
  },
  "kernelspec": {
   "display_name": "Python 3.10.0 64-bit",
   "language": "python",
   "name": "python3"
  },
  "language_info": {
   "codemirror_mode": {
    "name": "ipython",
    "version": 3
   },
   "file_extension": ".py",
   "mimetype": "text/x-python",
   "name": "python",
   "nbconvert_exporter": "python",
   "pygments_lexer": "ipython3",
   "version": "3.10.0"
  },
  "orig_nbformat": 4
 },
 "nbformat": 4,
 "nbformat_minor": 2
}
