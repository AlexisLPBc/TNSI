{
 "cells": [
  {
   "cell_type": "markdown",
   "metadata": {},
   "source": [
    "### Pourquoi les nft connaisent-ils un si grand succès ?"
   ]
  },
  {
   "cell_type": "markdown",
   "metadata": {},
   "source": [
    "https://www.futura-sciences.com/tech/definitions/tech-non-fungible-token-19205/"
   ]
  },
  {
   "cell_type": "markdown",
   "metadata": {},
   "source": []
  },
  {
   "cell_type": "markdown",
   "metadata": {},
   "source": []
  },
  {
   "cell_type": "markdown",
   "metadata": {},
   "source": [
    "### Comment et pourquoi nos données sont-elles vendues ?"
   ]
  },
  {
   "cell_type": "code",
   "execution_count": null,
   "metadata": {
    "vscode": {
     "languageId": "plaintext"
    }
   },
   "outputs": [],
   "source": [
    "https://www.lebigdata.fr/top-5-data-brokers-vendeurs-donnees#Nielsen_le_precurseur_de_la_mesure_audiovisuelle"
   ]
  },
  {
   "cell_type": "code",
   "execution_count": null,
   "metadata": {
    "vscode": {
     "languageId": "plaintext"
    }
   },
   "outputs": [],
   "source": [
    "https://www.google.com/search?q=nielsen&source=lnms&tbm=nws&sa=X&sqi=2&ved=2ahUKEwj7wp6m0uj3AhXeknIEHTvZCwkQ_AUoAXoECAIQAw&biw=1745&bih=881&dpr=1.1"
   ]
  },
  {
   "cell_type": "code",
   "execution_count": null,
   "metadata": {
    "vscode": {
     "languageId": "plaintext"
    }
   },
   "outputs": [],
   "source": []
  },
  {
   "cell_type": "markdown",
   "metadata": {},
   "source": [
    "### evolution dans le temps des methodes de données compatable :"
   ]
  },
  {
   "cell_type": "markdown",
   "metadata": {},
   "source": [
    "https://www.sap.com/france/about/company/what-is-sap.html"
   ]
  },
  {
   "cell_type": "code",
   "execution_count": null,
   "metadata": {
    "vscode": {
     "languageId": "plaintext"
    }
   },
   "outputs": [],
   "source": [
    "https://www.google.com/search?q=methode+de+donn%C3%A9es+comptable&oq=methode+de+donn%C3%A9es+comptable&aqs=chrome..69i57j33i160l3j33i22i29i30l6.6310j0j15&sourceid=chrome&ie=UTF-8"
   ]
  }
 ],
 "metadata": {
  "language_info": {
   "name": "python"
  },
  "orig_nbformat": 4
 },
 "nbformat": 4,
 "nbformat_minor": 2
}
