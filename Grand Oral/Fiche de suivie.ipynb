{
 "cells": [
  {
   "cell_type": "markdown",
   "metadata": {},
   "source": [
    "### Pourquoi les nft connaisent-ils un si grand succès ?"
   ]
  },
  {
   "cell_type": "markdown",
   "metadata": {},
   "source": [
    "https://www.futura-sciences.com/tech/definitions/tech-non-fungible-token-19205/"
   ]
  },
  {
   "cell_type": "markdown",
   "metadata": {},
   "source": [
    "jv.imagine nft succes ? https://www.youtube.com/watch?v=hQJsgKFEsdk"
   ]
  },
  {
   "cell_type": "markdown",
   "metadata": {},
   "source": [
    "https://www.librealire.org/nft-pourquoi-ce-succes-stephane-bortzmeyer "
   ]
  },
  {
   "cell_type": "markdown",
   "metadata": {},
   "source": [
    "http://www.senat.fr/rap/r17-584/r17-584_mono.html "
   ]
  },
  {
   "cell_type": "markdown",
   "metadata": {},
   "source": [
    "Plan :  \n",
    "\n",
    "1.  \n",
    "\n",
    " \n",
    "\n",
    "2.  \n",
    "\n",
    " \n",
    "\n",
    "3.  "
   ]
  },
  {
   "cell_type": "markdown",
   "metadata": {},
   "source": [
    "Vous êtes déjà demandé à quoi ça servait de dépenser des sommes faramineuses pour des œuvres seulement numériques. C’est une question qui fait sens. En effet quand on achète une œuvre d’art physique, dit classique, je suis la seule personne à la posséder et à pouvoir en profiter. Avec une œuvre numérique, avec une Nft, je peux être le propriétaire officiel de l’œuvre mais cela n’empêche personne d’obtenir aussi l’œuvre. Je ne suis que le propriétaire officiel. Mais au juste qu’est-ce qu’un Nft? L’avantage du numérique c’est de pouvoir partager toutes sortes de connaissances et ainsi pouvoir la copier,  ainsi la dupliquer, la donné est donc un bien non rivale, elle n’a pas de rareté, sa consommation par mes soins n’empêche pas un tiers d'en profiter aussi. Avec la mise en place du système de Nft (jeton non fongible) on reforme le monde du numérique, paradoxalement nous régissons son fonctionnement. On instaure la rareté, quand il y a de la rareté, de la rivalité, il y a un marché. Plus officiellement le Nft n’est qu’une sorte de diplôme qui permet d’attester le propriétaire du bien, cela peut être une image, un son, un même, n'importe quel fichier numérique sur votre ordinateur, des bits, un ensemble de 0 et de 1. Le fonctionnement de ce dernier est comparable à celle des cryptomonnaies, il est basé sur la blockchain, l’ensemble des biens sont liés entre eux, on ne peut ajouter ni modifier un noeud de la blockchain sans la vérification de l’ensemble de la chaîne. Ce qui fait des Nft son plus grands succès reste les simplicités d’exécution, il faut premièrement votre fichier que vous voulez commercialiser, ça peut être un même fait de toutes pièces par vos soins et vous y ajoutez des metadonnes, ça certifie des choses telles que l’auteur du même, la date etc. Et on y ajoute une signa cryptographique, par analogie une signature manuscrite. Voilà vous avez votre fichier avec vos metadonnes et votre signature. Comme pour une œuvre classique il faut mettre un prix, un contrat automatique, il régit les règles de la transaction de la somme et son fonctionnement ça peut aller d’une seule transaction scripturale, entre le demandeur et l’offreur, le demandeur devient automatique l’offreur après cette transaction. On peut aussi faire en sorte que mon même, je suis l’auteur original donc le premier offreur du bien, gagne une commission a chaque passation de son biens. Ensuite il ne vous reste plus qu’à mettre votre fichier sur la blockchain, sur le marché. C’est un cette étape que nous rencontrons notre première barrière à l’entrée, la déposition de notre fichier sur notre blockchain coûte de l’argent qui peut aller d’une dizaine d’euros pour un bloc à une centaine pour une autre, votre fichier est maintenant un noeud de la chaîne de bloc répartie aux 4 coins du globe. Le fichier en lui-même peut disparaître, s'il était entreposé au centre de données d’ovh à Strasbourg, le fichier est perdu mais la blockchain elle est quasiment indestructible. \n",
    "\n",
    "La transparence de la blockchain permet donc de se faire un avis sur le bien voulu, sur le prochain investissement, car oui le Nft est un business d’investissement. L’individu prend un risque en achetant la propriété du fichier car il ne pense qu’à le revendre plus chère, à en faire un bénéfice, ça peut se compter en quelques dizaines/centaines de dollars dans certains cas puis dans d’autres à des dizaines de milliers de dollars. De nombreuses critiques se font entendre sur les Nft, ça serait irrationnel d’acheter une œuvre que tout le monde peut copier, les Nft sont de l’art contemporain et l’art contemporain a toujours été irrationnel. On peut aussi dire que le Nft est un placement comme on pourrait le faire pour un placement immobilier, si l’individu est convaincu de son futur  bénéfice il va placer son argent. Les Nft s’installent aussi dans le monde du jeu vidéo. L’univers du jeu vidéo a connu une très grande croissance économique, notamment pendant le confinement de 2020. Ces Nft peuvent représenter des joueurs de foot et il faudrait les collectionner afin de créer la meilleure équipe possible par exemple"
   ]
  },
  {
   "cell_type": "markdown",
   "metadata": {},
   "source": [
    "### Comment et pourquoi nos données sont-elles vendues ?"
   ]
  },
  {
   "cell_type": "code",
   "execution_count": null,
   "metadata": {
    "vscode": {
     "languageId": "plaintext"
    }
   },
   "outputs": [],
   "source": [
    "https://www.lebigdata.fr/top-5-data-brokers-vendeurs-donnees#Nielsen_le_precurseur_de_la_mesure_audiovisuelle"
   ]
  },
  {
   "cell_type": "code",
   "execution_count": null,
   "metadata": {
    "vscode": {
     "languageId": "plaintext"
    }
   },
   "outputs": [],
   "source": [
    "https://www.google.com/search?q=nielsen&source=lnms&tbm=nws&sa=X&sqi=2&ved=2ahUKEwj7wp6m0uj3AhXeknIEHTvZCwkQ_AUoAXoECAIQAw&biw=1745&bih=881&dpr=1.1"
   ]
  },
  {
   "cell_type": "code",
   "execution_count": null,
   "metadata": {
    "vscode": {
     "languageId": "plaintext"
    }
   },
   "outputs": [],
   "source": [
    "Plan : \n",
    "\n",
    "1. Comment ? \n",
    "\n",
    "    a ) Via les cookies  \n",
    "\n",
    "        Qu’est-ce quon connaît de nous \n",
    "\n",
    "    b ) Via les data brokers  \n",
    "\n",
    "        Exemple de nielsen  \n",
    "\n",
    "2. Pourquoi ? \n",
    "\n",
    "    a) Ciblage  \n",
    "\n",
    "    b) course a la rentabilité"
   ]
  },
  {
   "cell_type": "markdown",
   "metadata": {},
   "source": [
    "### evolution dans le temps des methodes de données compatable :"
   ]
  },
  {
   "cell_type": "markdown",
   "metadata": {},
   "source": [
    "https://www.sap.com/france/about/company/what-is-sap.html"
   ]
  },
  {
   "cell_type": "code",
   "execution_count": null,
   "metadata": {
    "vscode": {
     "languageId": "plaintext"
    }
   },
   "outputs": [],
   "source": [
    "https://www.google.com/search?q=methode+de+donn%C3%A9es+comptable&oq=methode+de+donn%C3%A9es+comptable&aqs=chrome..69i57j33i160l3j33i22i29i30l6.6310j0j15&sourceid=chrome&ie=UTF-8"
   ]
  },
  {
   "cell_type": "markdown",
   "metadata": {},
   "source": [
    "Plan :\n",
    "\n",
    "1. \n",
    "\n",
    "2. \n",
    "\n",
    "3. "
   ]
  },
  {
   "cell_type": "markdown",
   "metadata": {},
   "source": [
    "https://www.aranacorp.com/fr/pilotez-un-nodemcu-esp8266-a-laide-dune-interface-web/"
   ]
  }
 ],
 "metadata": {
  "language_info": {
   "name": "python"
  },
  "orig_nbformat": 4
 },
 "nbformat": 4,
 "nbformat_minor": 2
}
