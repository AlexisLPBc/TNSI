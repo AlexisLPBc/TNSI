{
 "cells": [
  {
   "cell_type": "markdown",
   "source": [
    "<h1>Quelques recommandations de programmation afin d'anticiper des erreurs...</h1>\n",
    "\n",
    "<h3>Eviter de développer des dizaines de lignes de code dans un seul bloc.</h3>\n",
    "\n",
    "  Il vaut mieux découper son algorithme en fonctions où chaque fonction réalise une tâche précise. Ces fonctions pourront être éventuellement réutilisées ensuite dans un autre contexte. Recommencer à coder une solution c'est investir à nouveau du temps de développement, de degogage, de documentation, ... De plus, il est toujours plus compliqué de chercher une erreur d'algorithme dans 200 lignes de code que dans une des 20 fonctions de 10 lignes chacune.\n",
    "  \n",
    "<h3>Utiliser des assertions comme \"garde fou\"</h3>\n",
    "\n",
    "  <code>assert condition,\"texte d'explication\"</code>\n",
    "  \n",
    "  \n",
    "  > Revoir : [Fonctions_et_modularisation.ipynb](https://nbviewer.jupyter.org/github/ericECmorlaix/1NSI_2019-2020/blob/master/Fonctions_et_modularisation.ipynb)\n",
    "\n",
    "\n",
    "<h3>Développer son algorithme grace aux commentaires</h3>\n",
    "\n",
    "  Avant de commencer à coder assurez vous d'avoir une idée claire de vote algorithme. \n",
    "  \n",
    "  Une méthode efficace consiste à :\n",
    "  \n",
    "  1. Ecrire son algorithme sous forme de commentaires\n",
    "  \n",
    "  2. Si certaines parties de l'algorithme ne sont pas encore suffisamment précises, elles pourront être détaillées ensuite dans une fonction spécifique\n",
    "  \n",
    "  3. Lorsque des fonctions ou méthodes sont stables et éprouvées, elles  peuvent être placées dans des bibliothèques pour alléger la lecture du code... => [Fonctions_et_modularisation.ipynb#Modules-:](https://nbviewer.jupyter.org/github/ericECmorlaix/1NSI_2019-2020/blob/master/Fonctions_et_modularisation.ipynb#Modules-:)\n",
    "\n",
    "<h3>Gérer les situations problématiques sans provoquer de message d'erreur ou de \"plantage\"</h3>\n",
    "<h4> try : ... raise ... except ... :</h4>\n",
    "\n",
    "  Si on souhaite éviter une situation de plantage lors d'une erreur, il faut gérer les erreurs provoquées lors de l'exécution de la fonction.\n",
    "\n",
    "*Exemple : un système automatisé doit être capable d'indiquer qu'une commande est incorrecte sans pour cela s'arrêter*\n",
    "\n",
    "<code>\n",
    "  try : <br>\n",
    "&nbsp;&nbsp;&nbsp;if not {condition à respecter} :<br>\n",
    "&nbsp;&nbsp;&nbsp;&nbsp;&nbsp;&nbsp;raise {type d'erreur}()<br>\n",
    "&nbsp;&nbsp;&nbsp;except {type d'erreur} :<br>\n",
    "&nbsp;&nbsp;&nbsp;&nbsp;&nbsp;&nbsp;*Gérer la situation avant de sortir de la fonction*\n",
    "</code><br>\n",
    "\n",
    "Sources d'informations à lire :\n",
    "  - https://docs.python.org/fr/3.5/tutorial/errors.html\n",
    "  - https://openclassrooms.com/fr/courses/235344-apprenez-a-programmer-en-python/231688-gerez-les-exceptions\n",
    "\n",
    "\n",
    "\n",
    "## Exemple avec l'exercice : Série de notes\n",
    "Écrire un programme qui permet :\n",
    "- de demander à l’utilisateur combien de notes il souhaite saisir → [ n ]\n",
    "\n",
    "- de saisir les [ n ] notes comprise entre [ 0 ; 20 ]\n",
    "- d’afficher la note la plus faible et la note la plus élevée\n",
    "- de calculer la moyenne"
   ],
   "metadata": {}
  },
  {
   "cell_type": "markdown",
   "source": [
    "## Construction de l'algorithme :"
   ],
   "metadata": {}
  },
  {
   "cell_type": "code",
   "execution_count": 2,
   "source": [
    "# Construction du programme à développer à l'aide des commentaires :\r\n",
    "\r\n",
    "# demander à l’utilisateur combien de notes il souhaite saisir → [ n ]\r\n",
    "nb_notes = demander_entier(\"Combien de notes sont à saisir ? \")\r\n",
    "\r\n",
    "# saisir les [ n ] notes comprise entre [ 0 ; 20 ]\r\n",
    "notes = [ saisir_note() for i in range(nb_notes)] # Complété en classe\r\n",
    "\r\n",
    "# afficher la note la plus faible et la note la plus élevée\r\n",
    "print(f\"La note mini est {minimum_table(notes)}\")\r\n",
    "print(f\"La note maxi est {maximum_table(notes)}\")\r\n",
    "\r\n",
    "# calculer la moyenne\r\n",
    "print(f\"La moyenne des notes est {moyenne_table(notes)}\")"
   ],
   "outputs": [
    {
     "output_type": "error",
     "ename": "NameError",
     "evalue": "name 'demander_entier' is not defined",
     "traceback": [
      "\u001b[0;31m---------------------------------------------------------------------------\u001b[0m",
      "\u001b[0;31mNameError\u001b[0m                                 Traceback (most recent call last)",
      "\u001b[0;32m<ipython-input-2-c6e8bcb1826e>\u001b[0m in \u001b[0;36m<module>\u001b[0;34m\u001b[0m\n\u001b[1;32m      2\u001b[0m \u001b[0;34m\u001b[0m\u001b[0m\n\u001b[1;32m      3\u001b[0m \u001b[0;31m# demander à l’utilisateur combien de notes il souhaite saisir → [ n ]\u001b[0m\u001b[0;34m\u001b[0m\u001b[0;34m\u001b[0m\u001b[0;34m\u001b[0m\u001b[0m\n\u001b[0;32m----> 4\u001b[0;31m \u001b[0mnb_notes\u001b[0m \u001b[0;34m=\u001b[0m \u001b[0mdemander_entier\u001b[0m\u001b[0;34m(\u001b[0m\u001b[0;34m\"Combien de notes sont à saisir ? \"\u001b[0m\u001b[0;34m)\u001b[0m\u001b[0;34m\u001b[0m\u001b[0;34m\u001b[0m\u001b[0m\n\u001b[0m\u001b[1;32m      5\u001b[0m \u001b[0;34m\u001b[0m\u001b[0m\n\u001b[1;32m      6\u001b[0m \u001b[0;31m# saisir les [ n ] notes comprise entre [ 0 ; 20 ]\u001b[0m\u001b[0;34m\u001b[0m\u001b[0;34m\u001b[0m\u001b[0;34m\u001b[0m\u001b[0m\n",
      "\u001b[0;31mNameError\u001b[0m: name 'demander_entier' is not defined"
     ]
    }
   ],
   "metadata": {}
  },
  {
   "cell_type": "code",
   "execution_count": null,
   "source": [
    "nombre_de_note_saisir= int(input())\r\n",
    "liste=[]\r\n",
    "for i in range(nombre_de_note_saisir):\r\n",
    "     liste+=[int(input())]\r\n",
    "print (liste)\r\n",
    "\r\n",
    "mini=liste[0]\r\n",
    "for i in liste:\r\n",
    "    if i<=mini:\r\n",
    "        mini=i\r\n",
    "print (mini) \r\n",
    "\r\n",
    "maxi=liste[0]\r\n",
    "for i in liste:\r\n",
    "    if i>=maxi:\r\n",
    "        maxi=i\r\n",
    "print (maxi)\r\n",
    "\r\n",
    "def moyenne(liste):\r\n",
    "    s=0\r\n",
    "    for n in liste :\r\n",
    "        s+=n\r\n",
    "    return s/len(liste)\r\n",
    "            \r\n",
    "print(moyenne(liste))"
   ],
   "outputs": [],
   "metadata": {}
  },
  {
   "cell_type": "markdown",
   "source": [
    "## Une première version pour `demander_entier()` :"
   ],
   "metadata": {}
  },
  {
   "cell_type": "code",
   "execution_count": 3,
   "source": [
    "def demander_entier_V1(message : str) -> int :\r\n",
    "    \"\"\" ==================================================================================================================\r\n",
    "    \r\n",
    "        * Description : \r\n",
    "            Je demande à l'utilisateur un nombre correspondant à la question du message et renvoie le résultat au format entier ;\r\n",
    "                > Remarque : Ici, pas de gestion de vérification de validité de la saisie utilisateur.\r\n",
    "                        \r\n",
    "        * Exemple :\r\n",
    "            >>> demander_entier(\"Combien de notes sont à saisir ? \")\r\n",
    "            Combien de notes sont à saisir ? 5\r\n",
    "            5\r\n",
    "                    \r\n",
    "        * Préconditions :\r\n",
    "            message (str) : question définissant le nombre à saisir ;\r\n",
    "                    \r\n",
    "        * Postconditions :\r\n",
    "            (int) : la valeur saisie convertie en entier.       \r\n",
    "        \r\n",
    "        ==================================================================================================================\r\n",
    "    \"\"\"\r\n",
    "    # Assertions de vérification des préconditions :\r\n",
    "    assert type(message) == str  , \"Le message doit être une chaine de caractères.\"\r\n",
    "            \r\n",
    "    # bloc d'instructions :\r\n",
    "    nombre = int(input(message))\r\n",
    "    return nombre"
   ],
   "outputs": [],
   "metadata": {}
  },
  {
   "cell_type": "markdown",
   "source": [
    "### Pour tester :"
   ],
   "metadata": {}
  },
  {
   "cell_type": "code",
   "execution_count": 4,
   "source": [
    "help(demander_entier_V1)"
   ],
   "outputs": [
    {
     "output_type": "stream",
     "name": "stdout",
     "text": [
      "Help on function demander_entier_V1 in module __main__:\n",
      "\n",
      "demander_entier_V1(message: str) -> int\n",
      "    ==================================================================================================================\n",
      "    \n",
      "    * Description : \n",
      "        Je demande à l'utilisateur un nombre correspondant à la question du message et renvoie le résultat au format entier ;\n",
      "            > Remarque : Ici, pas de gestion de vérification de validité de la saisie utilisateur.\n",
      "                    \n",
      "    * Exemple :\n",
      "        >>> demander_entier(\"Combien de notes sont à saisir ? \")\n",
      "        Combien de notes sont à saisir ? 5\n",
      "        5\n",
      "                \n",
      "    * Préconditions :\n",
      "        message (str) : question définissant le nombre à saisir ;\n",
      "                \n",
      "    * Postconditions :\n",
      "        (int) : la valeur saisie convertie en entier.       \n",
      "    \n",
      "    ==================================================================================================================\n",
      "\n"
     ]
    }
   ],
   "metadata": {}
  },
  {
   "cell_type": "code",
   "execution_count": 5,
   "source": [
    "nb_notes = demander_entier_V1(10)"
   ],
   "outputs": [
    {
     "output_type": "error",
     "ename": "AssertionError",
     "evalue": "Le message doit être une chaine de caractères.",
     "traceback": [
      "\u001b[0;31m---------------------------------------------------------------------------\u001b[0m",
      "\u001b[0;31mAssertionError\u001b[0m                            Traceback (most recent call last)",
      "\u001b[0;32m<ipython-input-5-6624f8eafe7c>\u001b[0m in \u001b[0;36m<module>\u001b[0;34m\u001b[0m\n\u001b[0;32m----> 1\u001b[0;31m \u001b[0mnb_notes\u001b[0m \u001b[0;34m=\u001b[0m \u001b[0mdemander_entier_V1\u001b[0m\u001b[0;34m(\u001b[0m\u001b[0;36m10\u001b[0m\u001b[0;34m)\u001b[0m\u001b[0;34m\u001b[0m\u001b[0;34m\u001b[0m\u001b[0m\n\u001b[0m",
      "\u001b[0;32m<ipython-input-3-5a65aa8b543b>\u001b[0m in \u001b[0;36mdemander_entier_V1\u001b[0;34m(message)\u001b[0m\n\u001b[1;32m     20\u001b[0m     \"\"\"\n\u001b[1;32m     21\u001b[0m     \u001b[0;31m# Assertions de vérification des préconditions :\u001b[0m\u001b[0;34m\u001b[0m\u001b[0;34m\u001b[0m\u001b[0;34m\u001b[0m\u001b[0m\n\u001b[0;32m---> 22\u001b[0;31m     \u001b[0;32massert\u001b[0m \u001b[0mtype\u001b[0m\u001b[0;34m(\u001b[0m\u001b[0mmessage\u001b[0m\u001b[0;34m)\u001b[0m \u001b[0;34m==\u001b[0m \u001b[0mstr\u001b[0m  \u001b[0;34m,\u001b[0m \u001b[0;34m\"Le message doit être une chaine de caractères.\"\u001b[0m\u001b[0;34m\u001b[0m\u001b[0;34m\u001b[0m\u001b[0m\n\u001b[0m\u001b[1;32m     23\u001b[0m \u001b[0;34m\u001b[0m\u001b[0m\n\u001b[1;32m     24\u001b[0m     \u001b[0;31m# bloc d'instructions :\u001b[0m\u001b[0;34m\u001b[0m\u001b[0;34m\u001b[0m\u001b[0;34m\u001b[0m\u001b[0m\n",
      "\u001b[0;31mAssertionError\u001b[0m: Le message doit être une chaine de caractères."
     ]
    }
   ],
   "metadata": {}
  },
  {
   "cell_type": "code",
   "execution_count": 6,
   "source": [
    "nb_notes = demander_entier_V1(\"Combien de notes sont à saisir ? \") # Tester avec les saisies 5, 5.0, toto "
   ],
   "outputs": [
    {
     "output_type": "stream",
     "name": "stdout",
     "text": [
      "Combien de notes sont à saisir ? 2\n"
     ]
    }
   ],
   "metadata": {}
  },
  {
   "cell_type": "markdown",
   "source": [
    "## Une seconde version pour `demander_entier()` :"
   ],
   "metadata": {}
  },
  {
   "cell_type": "code",
   "execution_count": 7,
   "source": [
    "def demander_entier_V2(message : str) -> int :\r\n",
    "    \"\"\" ==================================================================================================================\r\n",
    "    \r\n",
    "        * Description : \r\n",
    "            Je demande à l'utilisateur un nombre correspondant à la question du message et renvoie le résultat au format entier ;\r\n",
    "                > avec une gestion de vérification de la validité de la saisie utilisateur.\r\n",
    "                        \r\n",
    "        * Exemple :\r\n",
    "            >>> demander_entier(\"Combien de notes sont à saisir ? \")\r\n",
    "            Combien de notes sont à saisir ? 5\r\n",
    "            5\r\n",
    "                                           \r\n",
    "        * Préconditions :\r\n",
    "            message (str) : question définissant le nombre à saisir ;\r\n",
    "                    \r\n",
    "        * Postconditions :\r\n",
    "            (int) : la valeur saisie convertie en entier.       \r\n",
    "        \r\n",
    "        ==================================================================================================================\r\n",
    "    \"\"\"\r\n",
    "    # Assertions de vérification des préconditions :\r\n",
    "    assert type(message) == str  , \"Le message doit être une chaine de caractères.\"\r\n",
    "            \r\n",
    "    # bloc d'instructions :\r\n",
    "    try :\r\n",
    "        nombre = int(input(message))\r\n",
    "        return nombre\r\n",
    "    except ValueError :\r\n",
    "        print(\"La valeur saisie doit être convertible en un nombre entier exprimé en base 10 : \\n    -> la saisie ne doit pas contenir d'autres caractères que 0, 1, 2, 3, 4, 5, 6, 7, 8, 9\")\r\n",
    "        "
   ],
   "outputs": [],
   "metadata": {}
  },
  {
   "cell_type": "markdown",
   "source": [
    "### Pour tester :"
   ],
   "metadata": {}
  },
  {
   "cell_type": "code",
   "execution_count": null,
   "source": [
    "demander_entier_V2(\"Combien de notes sont à saisir ? \") # Tester avec les saisies 5, 5.0, toto "
   ],
   "outputs": [],
   "metadata": {}
  },
  {
   "cell_type": "markdown",
   "source": [
    "## Autres fonctions :"
   ],
   "metadata": {}
  },
  {
   "cell_type": "code",
   "execution_count": 1,
   "source": [
    "def saisir_note() -> float :\r\n",
    "    \"\"\" ==================================================================================================================\r\n",
    "    \r\n",
    "        A COMPLETER\r\n",
    "        * Description : \r\n",
    "                Je demande à l'utilisateur une note format entier ;\r\n",
    "                        \r\n",
    "        * Exemple :\r\n",
    "            >>> saisir_note()=int(input())\r\n",
    "            \r\n",
    "                                           \r\n",
    "        * Préconditions :\r\n",
    "             Il faut que ce soit un entier ;\r\n",
    "                     \r\n",
    "        * Postconditions :\r\n",
    "            (float) : la valeur saisie convertie en float.       \r\n",
    "        \r\n",
    "        ==================================================================================================================\r\n",
    "    \"\"\"\r\n",
    "    \r\n",
    "    # Instructions A CODER\r\n",
    "    nombre_de_note_saisir= int(input())\r\n",
    "    liste=[]\r\n",
    "    for i in range(nombre_de_note_saisir)\r\n",
    "    liste+=[int(input())]\r\n",
    "    print (liste)"
   ],
   "outputs": [],
   "metadata": {}
  },
  {
   "cell_type": "code",
   "execution_count": 17,
   "source": [
    "#Test\r\n",
    "nombre_de_note_saisir= int(input())\r\n",
    "liste=[]\r\n",
    "for i in range(nombre_de_note_saisir):\r\n",
    "     liste+=[int(input())]\r\n",
    "print (liste)"
   ],
   "outputs": [
    {
     "output_type": "stream",
     "name": "stdout",
     "text": [
      "3\n",
      "8\n",
      "14\n",
      "6\n",
      "[8, 14, 6]\n"
     ]
    }
   ],
   "metadata": {}
  },
  {
   "cell_type": "code",
   "execution_count": 4,
   "source": [
    "def minimum(liste:list) -> float :\r\n",
    "    \"\"\" ==================================================================================================================\r\n",
    "    \r\n",
    "        A COMPLETER\r\n",
    "        \r\n",
    "        * Description : \r\n",
    "        Je demande à liste valeurs le minimum qu'elle contient. ;\r\n",
    "                        \r\n",
    "        * Exemple :\r\n",
    "           liste[]=[1,6,20,14] \r\n",
    "           minimum_table(liste)\r\n",
    "           1\r\n",
    "        * Préconditions :\r\n",
    "             il faut que ce soit dans une liste composer d'entier ;\r\n",
    "                    \r\n",
    "        * Postconditions :\r\n",
    "            (float) : la valeur mini de la liste d'entrée.       \r\n",
    "        \r\n",
    "        ==================================================================================================================\r\n",
    "    \"\"\"\r\n",
    "    \r\n",
    "    # Instructions A CODER\r\n",
    "    mini=liste[0]\r\n",
    "    for i in liste:\r\n",
    "        if i<=mini:\r\n",
    "            mini=i\r\n",
    "        return mini "
   ],
   "outputs": [],
   "metadata": {}
  },
  {
   "cell_type": "code",
   "execution_count": 18,
   "source": [
    "#Test\r\n",
    "mini=liste[0]\r\n",
    "for i in liste:\r\n",
    "    if i<=mini:\r\n",
    "        mini=i\r\n",
    "print (mini) "
   ],
   "outputs": [
    {
     "output_type": "stream",
     "name": "stdout",
     "text": [
      "6\n"
     ]
    }
   ],
   "metadata": {}
  },
  {
   "cell_type": "code",
   "execution_count": null,
   "source": [
    "def maximum(liste:list) -> float :\r\n",
    "    \"\"\" ==================================================================================================================\r\n",
    "    \r\n",
    "        A COMPLETER\r\n",
    "        \r\n",
    "        * Description : \r\n",
    "            Je demande à liste valeurs le maximum qu'elle contient. ;\r\n",
    "                        \r\n",
    "        * Exemple :\r\n",
    "            >>> liste[]=[1,6,20,14] \r\n",
    "           minimum_table(liste)\r\n",
    "           20\r\n",
    "                                           \r\n",
    "        * Préconditions :\r\n",
    "             il faut que ce soit dans une liste composer d'entier ;\r\n",
    "        * Postconditions :\r\n",
    "            (float) : la valeur maxi de la liste d'entrée.       \r\n",
    "        \r\n",
    "        ==================================================================================================================\r\n",
    "    \"\"\"\r\n",
    "    # Instructions A CODER\r\n",
    "maxi=liste[0]\r\n",
    "for i in liste:\r\n",
    "    if i>=mini:\r\n",
    "        maxi=i\r\n",
    "print (maxi)"
   ],
   "outputs": [],
   "metadata": {}
  },
  {
   "cell_type": "code",
   "execution_count": 19,
   "source": [
    "#Test\r\n",
    "maxi=liste[0]\r\n",
    "for i in liste:\r\n",
    "    if i>=maxi:\r\n",
    "        maxi=i\r\n",
    "print (maxi)"
   ],
   "outputs": [
    {
     "output_type": "stream",
     "name": "stdout",
     "text": [
      "14\n"
     ]
    }
   ],
   "metadata": {}
  },
  {
   "cell_type": "code",
   "execution_count": null,
   "source": [
    "def moyenne(liste:list) -> float :\r\n",
    "    \"\"\" ==================================================================================================================\r\n",
    "    \r\n",
    "        A COMPLETER\r\n",
    "        \r\n",
    "        * Description : \r\n",
    "        je demande a la liste le nombre de notes qu'elle contient puis je l'ai additionne entre eux puis je divise par le nombre de note;\r\n",
    "                        \r\n",
    "        * Exemple :\r\n",
    "        liste=[1,2,3]\r\n",
    "        moyenne(liste)\r\n",
    "        2\r\n",
    "             \r\n",
    "                                         \r\n",
    "        * Préconditions :\r\n",
    "             Une liste avec des nombres entiers ;\r\n",
    "                    \r\n",
    "        * Postconditions :\r\n",
    "            (float) : la valeur moyenne de la liste d'entrée.       \r\n",
    "        \r\n",
    "        ==================================================================================================================\r\n",
    "    \"\"\"\r\n",
    "    # Instructions A CODER\r\n",
    "    def moyenne(liste):\r\n",
    "        s=0\r\n",
    "        for n in liste :\r\n",
    "            s+=n\r\n",
    "        return s/len(liste)\r\n",
    "            \r\n",
    "print(moyenne(liste))\r\n"
   ],
   "outputs": [],
   "metadata": {}
  },
  {
   "cell_type": "code",
   "execution_count": 22,
   "source": [
    "#Test\r\n",
    "def moyenne(liste):\r\n",
    "    s=0\r\n",
    "    for n in liste :\r\n",
    "        s+=n\r\n",
    "    return s/len(liste)\r\n",
    "            \r\n",
    "print(moyenne(liste))"
   ],
   "outputs": [
    {
     "output_type": "stream",
     "name": "stdout",
     "text": [
      "9.333333333333334\n"
     ]
    }
   ],
   "metadata": {}
  },
  {
   "cell_type": "code",
   "execution_count": 23,
   "source": [
    "#Code_Final\r\n",
    "nombre_de_note_saisir= int(input())\r\n",
    "liste=[]\r\n",
    "for i in range(nombre_de_note_saisir):\r\n",
    "     liste+=[int(input())]\r\n",
    "print (liste)\r\n",
    "\r\n",
    "mini=liste[0]\r\n",
    "for i in liste:\r\n",
    "    if i<=mini:\r\n",
    "        mini=i\r\n",
    "print (mini) \r\n",
    "\r\n",
    "maxi=liste[0]\r\n",
    "for i in liste:\r\n",
    "    if i>=maxi:\r\n",
    "        maxi=i\r\n",
    "print (maxi)\r\n",
    "\r\n",
    "def moyenne(liste):\r\n",
    "    s=0\r\n",
    "    for n in liste :\r\n",
    "        s+=n\r\n",
    "    return s/len(liste)\r\n",
    "            \r\n",
    "print(moyenne(liste))"
   ],
   "outputs": [
    {
     "output_type": "stream",
     "name": "stdout",
     "text": [
      "2\n",
      "2\n",
      "8\n",
      "[2, 8]\n",
      "2\n",
      "8\n",
      "5.0\n"
     ]
    }
   ],
   "metadata": {}
  }
 ],
 "metadata": {
  "kernelspec": {
   "display_name": "Python 3",
   "language": "python",
   "name": "python3"
  },
  "language_info": {
   "codemirror_mode": {
    "name": "ipython",
    "version": 3
   },
   "file_extension": ".py",
   "mimetype": "text/x-python",
   "name": "python",
   "nbconvert_exporter": "python",
   "pygments_lexer": "ipython3",
   "version": "3.7.1"
  },
  "toc": {
   "base_numbering": 1,
   "nav_menu": {},
   "number_sections": true,
   "sideBar": true,
   "skip_h1_title": false,
   "title_cell": "Table of Contents",
   "title_sidebar": "Contents",
   "toc_cell": false,
   "toc_position": {},
   "toc_section_display": true,
   "toc_window_display": false
  },
  "varInspector": {
   "cols": {
    "lenName": 16,
    "lenType": 16,
    "lenVar": 40
   },
   "kernels_config": {
    "python": {
     "delete_cmd_postfix": "",
     "delete_cmd_prefix": "del ",
     "library": "var_list.py",
     "varRefreshCmd": "print(var_dic_list())"
    },
    "r": {
     "delete_cmd_postfix": ") ",
     "delete_cmd_prefix": "rm(",
     "library": "var_list.r",
     "varRefreshCmd": "cat(var_dic_list()) "
    }
   },
   "types_to_exclude": [
    "module",
    "function",
    "builtin_function_or_method",
    "instance",
    "_Feature"
   ],
   "window_display": false
  }
 },
 "nbformat": 4,
 "nbformat_minor": 4
}