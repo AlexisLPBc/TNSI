{
 "cells": [
  {
   "cell_type": "markdown",
   "metadata": {},
   "source": [
    "<h1>Quelques recommandations de programmation afin d'anticiper des erreurs...</h1>\n",
    "\n",
    "<h3>Eviter de développer des dizaines de lignes de code dans un seul bloc.</h3>\n",
    "\n",
    "  Il vaut mieux découper son algorithme en fonctions où chaque fonction réalise une tâche précise. Ces fonctions pourront être éventuellement réutilisées ensuite dans un autre contexte. Recommencer à coder une solution c'est investir à nouveau du temps de développement, de degogage, de documentation, ... De plus, il est toujours plus compliqué de chercher une erreur d'algorithme dans 200 lignes de code que dans une des 20 fonctions de 10 lignes chacune.\n",
    "  \n",
    "<h3>Utiliser des assertions comme \"garde fou\"</h3>\n",
    "\n",
    "  <code>assert condition,\"texte d'explication\"</code>\n",
    "  \n",
    "  \n",
    "  > Revoir : [Fonctions_et_modularisation.ipynb](https://nbviewer.jupyter.org/github/ericECmorlaix/1NSI_2019-2020/blob/master/Fonctions_et_modularisation.ipynb)\n",
    "\n",
    "\n",
    "<h3>Développer son algorithme grace aux commentaires</h3>\n",
    "\n",
    "  Avant de commencer à coder assurez vous d'avoir une idée claire de vote algorithme. \n",
    "  \n",
    "  Une méthode efficace consiste à :\n",
    "  \n",
    "  1. Ecrire son algorithme sous forme de commentaires\n",
    "  \n",
    "  2. Si certaines parties de l'algorithme ne sont pas encore suffisamment précises, elles pourront être détaillées ensuite dans une fonction spécifique\n",
    "  \n",
    "  3. Lorsque des fonctions ou méthodes sont stables et éprouvées, elles  peuvent être placées dans des bibliothèques pour alléger la lecture du code... => [Fonctions_et_modularisation.ipynb#Modules-:](https://nbviewer.jupyter.org/github/ericECmorlaix/1NSI_2019-2020/blob/master/Fonctions_et_modularisation.ipynb#Modules-:)\n",
    "\n",
    "<h3>Gérer les situations problématiques sans provoquer de message d'erreur ou de \"plantage\"</h3>\n",
    "<h4> try : ... raise ... except ... :</h4>\n",
    "\n",
    "  Si on souhaite éviter une situation de plantage lors d'une erreur, il faut gérer les erreurs provoquées lors de l'exécution de la fonction.\n",
    "\n",
    "*Exemple : un système automatisé doit être capable d'indiquer qu'une commande est incorrecte sans pour cela s'arrêter*\n",
    "\n",
    "<code>\n",
    "  try : <br>\n",
    "&nbsp;&nbsp;&nbsp;if not {condition à respecter} :<br>\n",
    "&nbsp;&nbsp;&nbsp;&nbsp;&nbsp;&nbsp;raise {type d'erreur}()<br>\n",
    "&nbsp;&nbsp;&nbsp;except {type d'erreur} :<br>\n",
    "&nbsp;&nbsp;&nbsp;&nbsp;&nbsp;&nbsp;*Gérer la situation avant de sortir de la fonction*\n",
    "</code><br>\n",
    "\n",
    "Sources d'informations à lire :\n",
    "  - https://docs.python.org/fr/3.5/tutorial/errors.html\n",
    "  - https://openclassrooms.com/fr/courses/235344-apprenez-a-programmer-en-python/231688-gerez-les-exceptions\n",
    "\n",
    "\n",
    "\n",
    "## Exemple avec l'exercice : Série de notes\n",
    "Écrire un programme qui permet :\n",
    "- de demander à l’utilisateur combien de notes il souhaite saisir → [ n ]\n",
    "\n",
    "- de saisir les [ n ] notes comprise entre [ 0 ; 20 ]\n",
    "- d’afficher la note la plus faible et la note la plus élevée\n",
    "- de calculer la moyenne"
   ]
  },
  {
   "cell_type": "markdown",
   "metadata": {},
   "source": [
    "## Construction de l'algorithme :"
   ]
  },
  {
   "cell_type": "code",
   "execution_count": null,
   "metadata": {},
   "outputs": [
    {
     "ename": "NameError",
     "evalue": "name 'demander_entier' is not defined",
     "output_type": "error",
     "traceback": [
      "\u001b[0;31m---------------------------------------------------------------------------\u001b[0m",
      "\u001b[0;31mNameError\u001b[0m                                 Traceback (most recent call last)",
      "\u001b[0;32m<ipython-input-2-c6e8bcb1826e>\u001b[0m in \u001b[0;36m<module>\u001b[0;34m\u001b[0m\n\u001b[1;32m      2\u001b[0m \u001b[0;34m\u001b[0m\u001b[0m\n\u001b[1;32m      3\u001b[0m \u001b[0;31m# demander à l’utilisateur combien de notes il souhaite saisir → [ n ]\u001b[0m\u001b[0;34m\u001b[0m\u001b[0;34m\u001b[0m\u001b[0;34m\u001b[0m\u001b[0m\n\u001b[0;32m----> 4\u001b[0;31m \u001b[0mnb_notes\u001b[0m \u001b[0;34m=\u001b[0m \u001b[0mdemander_entier\u001b[0m\u001b[0;34m(\u001b[0m\u001b[0;34m\"Combien de notes sont à saisir ? \"\u001b[0m\u001b[0;34m)\u001b[0m\u001b[0;34m\u001b[0m\u001b[0;34m\u001b[0m\u001b[0m\n\u001b[0m\u001b[1;32m      5\u001b[0m \u001b[0;34m\u001b[0m\u001b[0m\n\u001b[1;32m      6\u001b[0m \u001b[0;31m# saisir les [ n ] notes comprise entre [ 0 ; 20 ]\u001b[0m\u001b[0;34m\u001b[0m\u001b[0;34m\u001b[0m\u001b[0;34m\u001b[0m\u001b[0m\n",
      "\u001b[0;31mNameError\u001b[0m: name 'demander_entier' is not defined"
     ]
    }
   ],
   "source": [
    "from note import * \n",
    "\n",
    "# demander à l’utilisateur combien de notes il souhaite saisir → [ n ]\n",
    "nb_notes = demander_entier(\"Combien de notes sont à saisir ? \")\n",
    "\n",
    "# saisir les [ n ] notes comprise entre [ 0 ; 20 ]\n",
    "notes = [ saisir_note() for i in range(nb_notes)] # Complété en classe\n",
    "\n",
    "# afficher la note la plus faible et la note la plus élevée\n",
    "print(f\"La note mini est {minimum(notes)}\")\n",
    "print(f\"La note maxi est {maximum(notes)}\")\n",
    "\n",
    "# calculer la moyenne\n",
    "print(f\"La moyenne des notes est {moyenne(notes)}\")"
   ]
  },
  {
   "cell_type": "code",
   "execution_count": null,
   "metadata": {},
   "outputs": [],
   "source": [
    "nombre_de_note_saisir= int(input())\n",
    "liste=[]\n",
    "for i in range(nombre_de_note_saisir):\n",
    "     liste+=[int(input())]\n",
    "print (liste)\n",
    "\n",
    "minimum=liste[0]\n",
    "for i in liste:\n",
    "    if i<=minimum:\n",
    "        mini=i\n",
    "print (minimum) \n",
    "\n",
    "maximum=liste[0]\n",
    "for i in liste:\n",
    "    if i>=maximum:\n",
    "        maximum=i\n",
    "print (maximum)\n",
    "\n",
    "def moyenne(liste):\n",
    "    s=0\n",
    "    for n in liste :\n",
    "        s+=n\n",
    "    return s/len(liste)\n",
    "            \n",
    "print(moyenne(liste))"
   ]
  },
  {
   "cell_type": "markdown",
   "metadata": {},
   "source": [
    "## Une première version pour `demander_entier()` :"
   ]
  },
  {
   "cell_type": "code",
   "execution_count": null,
   "metadata": {},
   "outputs": [],
   "source": [
    "def demander_entier(message : str) -> int :\n",
    "    \"\"\" ==================================================================================================================\n",
    "    \n",
    "        * Description : \n",
    "            Je demande à l'utilisateur un nombre correspondant à la question du message et renvoie le résultat au format entier ;\n",
    "                > Remarque : Ici, pas de gestion de vérification de validité de la saisie utilisateur.\n",
    "                        \n",
    "        * Exemple :\n",
    "            >>> demander_entier(\"Combien de notes sont à saisir ? \")\n",
    "            Combien de notes sont à saisir ? 5\n",
    "            5\n",
    "                    \n",
    "        * Préconditions :\n",
    "            message (str) : question définissant le nombre à saisir ;\n",
    "                    \n",
    "        * Postconditions :\n",
    "            (int) : la valeur saisie convertie en entier.       \n",
    "        \n",
    "        ==================================================================================================================\n",
    "    \"\"\"\n",
    "    # Assertions de vérification des préconditions :\n",
    "    assert type(message) == str  , \"Le message doit être une chaine de caractères.\"\n",
    "            \n",
    "    # bloc d'instructions :\n",
    "    nombre = int(input(message))\n",
    "    return nombre"
   ]
  },
  {
   "cell_type": "markdown",
   "metadata": {},
   "source": [
    "### Pour tester :"
   ]
  },
  {
   "cell_type": "code",
   "execution_count": 4,
   "metadata": {},
   "outputs": [
    {
     "name": "stdout",
     "output_type": "stream",
     "text": [
      "Help on function demander_entier_V1 in module __main__:\n",
      "\n",
      "demander_entier_V1(message: str) -> int\n",
      "    ==================================================================================================================\n",
      "    \n",
      "    * Description : \n",
      "        Je demande à l'utilisateur un nombre correspondant à la question du message et renvoie le résultat au format entier ;\n",
      "            > Remarque : Ici, pas de gestion de vérification de validité de la saisie utilisateur.\n",
      "                    \n",
      "    * Exemple :\n",
      "        >>> demander_entier(\"Combien de notes sont à saisir ? \")\n",
      "        Combien de notes sont à saisir ? 5\n",
      "        5\n",
      "                \n",
      "    * Préconditions :\n",
      "        message (str) : question définissant le nombre à saisir ;\n",
      "                \n",
      "    * Postconditions :\n",
      "        (int) : la valeur saisie convertie en entier.       \n",
      "    \n",
      "    ==================================================================================================================\n",
      "\n"
     ]
    }
   ],
   "source": [
    "help(demander_entier)"
   ]
  },
  {
   "cell_type": "code",
   "execution_count": null,
   "metadata": {},
   "outputs": [
    {
     "ename": "AssertionError",
     "evalue": "Le message doit être une chaine de caractères.",
     "output_type": "error",
     "traceback": [
      "\u001b[0;31m---------------------------------------------------------------------------\u001b[0m",
      "\u001b[0;31mAssertionError\u001b[0m                            Traceback (most recent call last)",
      "\u001b[0;32m<ipython-input-5-6624f8eafe7c>\u001b[0m in \u001b[0;36m<module>\u001b[0;34m\u001b[0m\n\u001b[0;32m----> 1\u001b[0;31m \u001b[0mnb_notes\u001b[0m \u001b[0;34m=\u001b[0m \u001b[0mdemander_entier_V1\u001b[0m\u001b[0;34m(\u001b[0m\u001b[0;36m10\u001b[0m\u001b[0;34m)\u001b[0m\u001b[0;34m\u001b[0m\u001b[0;34m\u001b[0m\u001b[0m\n\u001b[0m",
      "\u001b[0;32m<ipython-input-3-5a65aa8b543b>\u001b[0m in \u001b[0;36mdemander_entier_V1\u001b[0;34m(message)\u001b[0m\n\u001b[1;32m     20\u001b[0m     \"\"\"\n\u001b[1;32m     21\u001b[0m     \u001b[0;31m# Assertions de vérification des préconditions :\u001b[0m\u001b[0;34m\u001b[0m\u001b[0;34m\u001b[0m\u001b[0;34m\u001b[0m\u001b[0m\n\u001b[0;32m---> 22\u001b[0;31m     \u001b[0;32massert\u001b[0m \u001b[0mtype\u001b[0m\u001b[0;34m(\u001b[0m\u001b[0mmessage\u001b[0m\u001b[0;34m)\u001b[0m \u001b[0;34m==\u001b[0m \u001b[0mstr\u001b[0m  \u001b[0;34m,\u001b[0m \u001b[0;34m\"Le message doit être une chaine de caractères.\"\u001b[0m\u001b[0;34m\u001b[0m\u001b[0;34m\u001b[0m\u001b[0m\n\u001b[0m\u001b[1;32m     23\u001b[0m \u001b[0;34m\u001b[0m\u001b[0m\n\u001b[1;32m     24\u001b[0m     \u001b[0;31m# bloc d'instructions :\u001b[0m\u001b[0;34m\u001b[0m\u001b[0;34m\u001b[0m\u001b[0;34m\u001b[0m\u001b[0m\n",
      "\u001b[0;31mAssertionError\u001b[0m: Le message doit être une chaine de caractères."
     ]
    }
   ],
   "source": [
    "nb_notes = demander_entier(10)"
   ]
  },
  {
   "cell_type": "code",
   "execution_count": 6,
   "metadata": {},
   "outputs": [
    {
     "name": "stdout",
     "output_type": "stream",
     "text": [
      "Combien de notes sont à saisir ? 2\n"
     ]
    }
   ],
   "source": [
    "nb_notes = demander_entier(\"Combien de notes sont à saisir ? \") # Tester avec les saisies 5, 5.0, toto "
   ]
  },
  {
   "cell_type": "markdown",
   "metadata": {},
   "source": [
    "## Une seconde version pour `demander_entier()` :"
   ]
  },
  {
   "cell_type": "code",
   "execution_count": 7,
   "metadata": {},
   "outputs": [],
   "source": [
    "def demander_entier_V2(message : str) -> int :\n",
    "    \"\"\" ==================================================================================================================\n",
    "    \n",
    "        * Description : \n",
    "            Je demande à l'utilisateur un nombre correspondant à la question du message et renvoie le résultat au format entier ;\n",
    "                > avec une gestion de vérification de la validité de la saisie utilisateur.\n",
    "                        \n",
    "        * Exemple :\n",
    "            >>> demander_entier(\"Combien de notes sont à saisir ? \")\n",
    "            Combien de notes sont à saisir ? 5\n",
    "            5\n",
    "                                           \n",
    "        * Préconditions :\n",
    "            message (str) : question définissant le nombre à saisir ;\n",
    "                    \n",
    "        * Postconditions :\n",
    "            (int) : la valeur saisie convertie en entier.       \n",
    "        \n",
    "        ==================================================================================================================\n",
    "    \"\"\"\n",
    "    # Assertions de vérification des préconditions :\n",
    "    assert type(message) == str  , \"Le message doit être une chaine de caractères.\"\n",
    "            \n",
    "    # bloc d'instructions :\n",
    "    try :\n",
    "        nombre = int(input(message))\n",
    "        return nombre\n",
    "    except ValueError :\n",
    "        print(\"La valeur saisie doit être convertible en un nombre entier exprimé en base 10 : \\n    -> la saisie ne doit pas contenir d'autres caractères que 0, 1, 2, 3, 4, 5, 6, 7, 8, 9\")\n",
    "        "
   ]
  },
  {
   "cell_type": "markdown",
   "metadata": {},
   "source": [
    "### Pour tester :"
   ]
  },
  {
   "cell_type": "code",
   "execution_count": null,
   "metadata": {},
   "outputs": [],
   "source": [
    "demander_entier_V2(\"Combien de notes sont à saisir ? \") # Tester avec les saisies 5, 5.0, toto "
   ]
  },
  {
   "cell_type": "markdown",
   "metadata": {},
   "source": [
    "## Autres fonctions :"
   ]
  },
  {
   "cell_type": "code",
   "execution_count": 1,
   "metadata": {},
   "outputs": [],
   "source": [
    "def saisir_note() -> float :\n",
    "    \"\"\" ==================================================================================================================\n",
    "    \n",
    "        A COMPLETER\n",
    "        * Description : \n",
    "                Je demande à l'utilisateur une note format entier ;\n",
    "                        \n",
    "        * Exemple :\n",
    "            >>> saisir_note()=int(input())\n",
    "            \n",
    "                                           \n",
    "        * Préconditions :\n",
    "             Il faut que ce soit un entier ;\n",
    "                     \n",
    "        * Postconditions :\n",
    "            (float) : la valeur saisie convertie en float.       \n",
    "        \n",
    "        ==================================================================================================================\n",
    "    \"\"\"\n",
    "    \n",
    "    # Instructions A CODER\n",
    "try :\n",
    "        saisie = input(f\"Saisir une note comprise entre 0.0 et 20.0 : \")\n",
    "        saisie.replace(',','.') # prévoir de remplacer le séparateur décimal au cas où ...\n",
    "        note = float(saisie)\n",
    "        if note <= 0.0 or note >= 20.0 :\n",
    "            raise ValueError\n",
    "        return note\n",
    "        \n",
    "    except ValueError :\n",
    "        print(f\"La valeur saisie doit être un nombre entier ou décimal suppérieur ou égal à 0.0 et inférieur ou égal à 20.0.\")   \n",
    "        "
   ]
  },
  {
   "cell_type": "code",
   "execution_count": 4,
   "metadata": {},
   "outputs": [],
   "source": [
    "def minimum(liste:list) -> float :\n",
    "    \"\"\" ==================================================================================================================\n",
    "    \n",
    "        A COMPLETER\n",
    "        \n",
    "        * Description : \n",
    "        Je demande à liste valeurs le minimum qu'elle contient. ;\n",
    "                        \n",
    "        * Exemple :\n",
    "           liste[]=[1,6,20,14] \n",
    "           minimum_table(liste)\n",
    "           1\n",
    "        * Préconditions :\n",
    "             il faut que ce soit dans une liste composer d'entier ;\n",
    "                    \n",
    "        * Postconditions :\n",
    "            (float) : la valeur mini de la liste d'entrée.       \n",
    "        \n",
    "        ==================================================================================================================\n",
    "    \"\"\"\n",
    "    \n",
    "    # Instructions A CODER\n",
    "    minimum=liste[0]\n",
    "    for i in liste:\n",
    "        if i<=minimum:\n",
    "            minimum=i\n",
    "        return minimum "
   ]
  },
  {
   "cell_type": "code",
   "execution_count": 18,
   "metadata": {},
   "outputs": [
    {
     "name": "stdout",
     "output_type": "stream",
     "text": [
      "6\n"
     ]
    }
   ],
   "source": [
    "#Test\n",
    "minimum=liste[0]\n",
    "for i in liste:\n",
    "    if i<=minimum:\n",
    "        minimum=i\n",
    "print (minimum) "
   ]
  },
  {
   "cell_type": "code",
   "execution_count": null,
   "metadata": {},
   "outputs": [],
   "source": [
    "def maximum(liste:list) -> float :\n",
    "    \"\"\" ==================================================================================================================\n",
    "    \n",
    "        A COMPLETER\n",
    "        \n",
    "        * Description : \n",
    "            Je demande à liste valeurs le maximum qu'elle contient. ;\n",
    "                        \n",
    "        * Exemple :\n",
    "            >>> liste[]=[1,6,20,14] \n",
    "           minimum_table(liste)\n",
    "           20\n",
    "                                           \n",
    "        * Préconditions :\n",
    "             il faut que ce soit dans une liste composer d'entier ;\n",
    "        * Postconditions :\n",
    "            (float) : la valeur maxi de la liste d'entrée.       \n",
    "        \n",
    "        ==================================================================================================================\n",
    "    \"\"\"\n",
    "    # Instructions A CODER\n",
    "    maximum=liste[0]\n",
    "    for i in liste:\n",
    "        if i>=mini:\n",
    "            maximum=i\n",
    "    print (maximum)"
   ]
  },
  {
   "cell_type": "code",
   "execution_count": 19,
   "metadata": {},
   "outputs": [
    {
     "name": "stdout",
     "output_type": "stream",
     "text": [
      "14\n"
     ]
    }
   ],
   "source": [
    "#Test\n",
    "maximum=liste[0]\n",
    "for i in liste:\n",
    "    if i>=maximum:\n",
    "        maximum=i\n",
    "print (maximum)"
   ]
  },
  {
   "cell_type": "code",
   "execution_count": null,
   "metadata": {},
   "outputs": [],
   "source": [
    "def moyenne(liste:list) -> float :\n",
    "    \"\"\" ==================================================================================================================\n",
    "    \n",
    "        A COMPLETER\n",
    "        \n",
    "        * Description : \n",
    "        je demande a la liste le nombre de notes qu'elle contient puis je l'ai additionne entre eux puis je divise par le nombre de note;\n",
    "                        \n",
    "        * Exemple :\n",
    "        liste=[1,2,3]\n",
    "        moyenne(liste)\n",
    "        2\n",
    "             \n",
    "                                         \n",
    "        * Préconditions :\n",
    "             Une liste avec des nombres entiers ;\n",
    "                    \n",
    "        * Postconditions :\n",
    "            (float) : la valeur moyenne de la liste d'entrée.       \n",
    "        \n",
    "        ==================================================================================================================\n",
    "    \"\"\"\n",
    "    # Instructions A CODER\n",
    "    def moyenne(liste):\n",
    "        s=0\n",
    "        for n in liste :\n",
    "            s+=n\n",
    "        return s/len(liste)\n",
    "            \n",
    "print(moyenne(liste))\n"
   ]
  },
  {
   "cell_type": "code",
   "execution_count": 22,
   "metadata": {},
   "outputs": [
    {
     "name": "stdout",
     "output_type": "stream",
     "text": [
      "9.333333333333334\n"
     ]
    }
   ],
   "source": [
    "#Test\n",
    "def moyenne(liste):\n",
    "    s=0\n",
    "    for n in liste :\n",
    "        s+=n\n",
    "    return s/len(liste)\n",
    "            \n",
    "print(moyenne(liste))"
   ]
  },
  {
   "cell_type": "code",
   "execution_count": null,
   "metadata": {},
   "outputs": [
    {
     "name": "stdout",
     "output_type": "stream",
     "text": [
      "2\n",
      "2\n",
      "8\n",
      "[2, 8]\n",
      "2\n",
      "8\n",
      "5.0\n"
     ]
    }
   ],
   "source": [
    "#Code_Final\n",
    "nombre_de_note_saisir= int(input())\n",
    "liste=[]\n",
    "for i in range(nombre_de_note_saisir):\n",
    "     liste+=[int(input())]\n",
    "print (liste)\n",
    "\n",
    "mini=liste[0]\n",
    "for i in liste:\n",
    "    if i<=mini:\n",
    "        mini=i\n",
    "print (mini) \n",
    "\n",
    "maxi=liste[0]\n",
    "for i in liste:\n",
    "    if i>=maxi:\n",
    "        maxi=i\n",
    "print (maxi)\n",
    "\n",
    "def moyenne(liste):\n",
    "    s=0\n",
    "    for n in liste :\n",
    "        s+=n\n",
    "    return s/len(liste)\n",
    "            \n",
    "print(moyenne(liste))"
   ]
  }
 ],
 "metadata": {
  "interpreter": {
   "hash": "f56ae863cce071740703ec7776464744f60162bdcdeca80bd0ae0ef548189d87"
  },
  "kernelspec": {
   "display_name": "Python 3.8.10 64-bit (windows store)",
   "name": "python3"
  },
  "language_info": {
   "codemirror_mode": {
    "name": "ipython",
    "version": 3
   },
   "file_extension": ".py",
   "mimetype": "text/x-python",
   "name": "python",
   "nbconvert_exporter": "python",
   "pygments_lexer": "ipython3",
   "version": "3.8.10"
  },
  "toc": {
   "base_numbering": 1,
   "nav_menu": {},
   "number_sections": true,
   "sideBar": true,
   "skip_h1_title": false,
   "title_cell": "Table of Contents",
   "title_sidebar": "Contents",
   "toc_cell": false,
   "toc_position": {},
   "toc_section_display": true,
   "toc_window_display": false
  },
  "varInspector": {
   "cols": {
    "lenName": 16,
    "lenType": 16,
    "lenVar": 40
   },
   "kernels_config": {
    "python": {
     "delete_cmd_postfix": "",
     "delete_cmd_prefix": "del ",
     "library": "var_list.py",
     "varRefreshCmd": "print(var_dic_list())"
    },
    "r": {
     "delete_cmd_postfix": ") ",
     "delete_cmd_prefix": "rm(",
     "library": "var_list.r",
     "varRefreshCmd": "cat(var_dic_list()) "
    }
   },
   "types_to_exclude": [
    "module",
    "function",
    "builtin_function_or_method",
    "instance",
    "_Feature"
   ],
   "window_display": false
  }
 },
 "nbformat": 4,
 "nbformat_minor": 4
}
